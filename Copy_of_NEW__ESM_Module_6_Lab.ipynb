{
  "nbformat": 4,
  "nbformat_minor": 0,
  "metadata": {
    "kernelspec": {
      "display_name": "Python 3",
      "language": "python",
      "name": "python3"
    },
    "language_info": {
      "codemirror_mode": {
        "name": "ipython",
        "version": 3
      },
      "file_extension": ".py",
      "mimetype": "text/x-python",
      "name": "python",
      "nbconvert_exporter": "python",
      "pygments_lexer": "ipython3",
      "version": "3.7.3"
    },
    "colab": {
      "name": "Copy of NEW _ESM_Module_6_Lab.ipynb",
      "provenance": [],
      "collapsed_sections": [],
      "include_colab_link": true
    }
  },
  "cells": [
    {
      "cell_type": "markdown",
      "metadata": {
        "id": "view-in-github",
        "colab_type": "text"
      },
      "source": [
        "<a href=\"https://colab.research.google.com/github/Owlmanandy/ATMS-421-Projects/blob/master/Copy_of_NEW__ESM_Module_6_Lab.ipynb\" target=\"_parent\"><img src=\"https://colab.research.google.com/assets/colab-badge.svg\" alt=\"Open In Colab\"/></a>"
      ]
    },
    {
      "cell_type": "markdown",
      "metadata": {
        "id": "rDzuc-eEUIEn",
        "colab_type": "text"
      },
      "source": [
        "<h1>Earth Systems Modeling</h1>\n",
        "<h2>Module 6: Coupled Multi-Box Models, Nonlinearities, and Feedbacks<br><br>\n",
        "    Lab 6: A Two-Box Global Energy Balance Model  [25 pts]</h2>\n",
        "<blockquote>“We're running the most dangerous experiment in history right now, which is to see how much carbon dioxide the atmosphere can handle before there is an environmental catastrophe.” ― Elon Musk</blockquote>"
      ]
    },
    {
      "cell_type": "markdown",
      "metadata": {
        "id": "5xYcSlynUIEp",
        "colab_type": "text"
      },
      "source": [
        "<h3>Part 1: Two-Box Models</h3>\n",
        "<p>Module 3 introduced the basics of box modeling. Let us quickly review the principles and extend the concept to multiple boxes. As you may recall, our single box represented a <strong>reservoir</strong> of fish. A box in general represents a spatially homogenous distribution of a given quantity that we wish to track. Often the total amount of a quantity contained within a box is called an <strong>inventory</strong> or a <strong>stock</strong>, (e.g., the total number of fish, the total mass of a chemical species, etc.) A box model describes the inventory of a box and the processes that alter the inventory.  In a population model, processes that alter population include include births, deaths, and migrations; processes that are referred to collectively as <strong>flows</strong> of inventory; where the term <strong>source</strong> indicates a flow that increases the inventory and the term <strong>sink</strong> refers to processes that deplete stocks.  As we saw previously, flows are readily described mathematically as rates of change, and we can describe our flows using a continuity equation. Integration of the continuity equation then allows us to track our inventories with respect to time.</p>\n",
        "  \n",
        "<h4>Question 1.1: When developing a 2-box climate model, what quantity do you think should we track within our 2 boxes? Why?</h4>\n",
        "\n",
        "YOUR ANSWER: We decided to track the energy that moves back and forth between the two boxes, and then in the process we convert it to degrees Kelvin to be easily readable.\n"
      ]
    },
    {
      "cell_type": "markdown",
      "metadata": {
        "id": "oltvkDdtUIEq",
        "colab_type": "text"
      },
      "source": [
        "<p>Extending this framework to 2 boxes is simply a matter of adding a second inventory box and then allowing the two inventories to flow between boxes.  Fig. 1 illustrates this principle.  Note that we now require <strong>two equations</strong> to track the two inventories.</p>\n",
        "\n",
        "\n",
        "<img src=\"https://drive.google.com/uc?export=view&id=1WUZYfX1UxSF8DX_LmbvFLD9yniWUKlYZ\" alt=\"Drawing\" width =\"500\"/>\n",
        "\n",
        "Equation 1: \n",
        "  \\begin{equation}\n",
        "  \\frac{dX_1}{dt} = -F_{12} + F_{21} + \\Sigma _{(sources)} - \\Sigma _{(sinks)}\n",
        "  \\end{equation}\n",
        "  \n",
        "Equation 2: \n",
        "  \\begin{equation}\n",
        "  \\frac{dX_2}{dt} = F_{12} - F_{21} + \\Sigma _{(sources)} - \\Sigma _{(sinks)}\n",
        "  \\end{equation}\n",
        "\n",
        "<p>Above, Equation (1) relates the total change of inventory in Box 1 to the outflow of Box 1 to Box 2, $F_{12}$, the inflow from Box 2 $F_{21}$, and the external sources and sinks unique to Box 1.  Equation (1) and (2) are called <strong>coupled</strong> equations due to the flows of inventory between them. This model may be extended to more boxes by simply adding the required number and accounting for possible routes of inventory exchange as the situation requires. Using this theoretical framework, we can now use a 2-box approach to construct a rudimentary climate model.</p>"
      ]
    },
    {
      "cell_type": "markdown",
      "metadata": {
        "id": "A1dEZeLPUIEr",
        "colab_type": "text"
      },
      "source": [
        "<h4>Question 1.2: Make a conceptual 2-Box model for Global Climate Energy Balance.</h4>\n",
        "<p>Our goal here is to create a steady-state model that we can use in perturbation experiments to see how the climate might change as we alter various parameters. The climate never actually achieves a steady-state since the energy inputs and outputs are constantly fluctuating and driving the temperatures of Earth up and down. The untility of this model is the diagnosis of how various feedbacks respond to a given forcing to alter the energy balance.</p>\n",
        "<p>Work within your group to work out a conceptual model of the processes that you believe alter the Earth's energy balance. Remember to use the 2-box formalism in this case. Start by deciding what the two boxes will represent. Unless you are an atmospheric scientist, or have taken a course on climate, this is likely a very difficult question. Major hints are provided in Figure 2 below. Can break this into two boxes? What is being exchanged? Remember to work through the steps of creating a conceptual model below, and paste an image of your group's model into your notebook.</p> \n",
        "<img width = '600', src=\"https://nca2014.globalchange.gov/sites/report/files/images/web-large/Figure-2-hi.jpg\">"
      ]
    },
    {
      "cell_type": "markdown",
      "metadata": {
        "id": "IiYSRkbXUIEs",
        "colab_type": "text"
      },
      "source": [
        "Here are the conceptual modeling steps for your reference ... \n",
        "<ol>\n",
        "  <li>Create a Conceptual Model</li>\n",
        "  <ol type=\"a\"><li>Identify the systems/hypotheses/problems you wish to investigate. </li>\n",
        "    <li>Start with a verbal description of what is known about your system/hypothesis/problem. Consult the literature and to better delineate assumptions from fact. What is known, what are you assuming, and what remains an open question?</li>\n",
        "    <li>As you create your conceptual diagram, you will need to consider a few organizing principles: <ul> <li>Modeling Perspective: Are you modeling the behavior of entities or the operations of a system comprised by components? Are you tracking the independent decisions, relationships, or trajectories of entities (e.g., agents, particles, photons, planets, etc.), or is your subject better represented with an average statistical description sufficient (e.g., ensembles of particles, a known distribution of an entity, etc.), or does it makes sense to model conserved quantities (e.g., mass, energy, momentum, nominal money, etc.)? \n",
        "      </li><li>Time Dependence: Will you require a static, steady-state, or dynamic model to answer your question or solve your problem? Are you forecasting (hindcasting) the future (past), are you figuring out how a stable (equilibrated) system works, or are you attempting to identify structural weak points or bottlenecks in a design? How will you model time? (What is the timing of a decision?)</li>\n",
        "      <li>Spatial Scale: What spatial scale makes sense for your problem? By going to big, you may lose vital resolution. By going too small you might miss critical large-scale features, or exhaust computational resources expending several months of wall time to produce an interesting answer. (Spatial scales are often limited by time dependence. What is a time-step? What does the time-step mean in terms of space?)   \n",
        "      </li></ul> \n",
        "    </li>\n",
        "    <li>Create a graphical block diagram representing known entities or components with blocks and relationships. Connect these boxes with arrows representing a sequential flow, relationships, or material exchanges. When modeling an Earth system it is useful to identify a common \"currency\" of exchange between entities. For instance, an energy balance based climate model might attempt to reconstruct energy flows in terms of energy flux (Watts per meter-squared), while a global carbon cycle model might examine the flow of elemental carbon as TgC/yr. </li>\n",
        "</ol></ol><br>\n",
        "YOUR GROUP'S ANSWER: we ended up having a two-box model, with the upper box being the atmosphere and the lower box being the surface.  There is only one input to the overall system, and that's solar radiation.  From the atmosphere box, there is radiation and reflection out to space, but also radiation to the surface.  The surface also receives some solar irradiance directly. The spatial scale is the entire planet, divided into the atmosphere and the surface.  We have the time dependence as being on a yearly basis.  We want to see how different changes to parameters can affect the atmosphere of the planet by way of affecting the energy movement back and forth between the atmosphere and the surface."
      ]
    },
    {
      "cell_type": "markdown",
      "metadata": {
        "id": "VuynQWe9UIEt",
        "colab_type": "text"
      },
      "source": [
        "<h3>Part 2: Introduction to the Global Climate System</h3>\n",
        "<p>If we wish to model Earth's temperature in response to anthropogenic greenhouse gas emissions, one approach is to track the flow of energy through the Earth system. Recall that temperature is an intensive quantity related to the amount of heat transferred to a given material. If we know the heat capacity of the materials, we can simply track energy flows between reservoirs in order to estimate their temperatures.</p>\n",
        "\n",
        "<p>Solar energy drives the climate system with <a href=\"https://physics.stackexchange.com/questions/183235/how-much-heating-does-earth-inner-core-provide-to-the-surface\">Earth's core making a minor contribution around 0.02%</a>. Solar radiation is reflected, scattered, absorbed, chemically stored by photosynthesis, converted into work, and emitted back into outer space. The intricate balance of these processes determines the global temperature, which is the climate metric we will track in our simplified model.</p>\n",
        "\n",
        "<h4>2.1 Defining Climate and Climate Normals</h4>\n",
        "<p>The World Meteorological Organization (WMO) defines climate as <blockquote>\"the statistical description in terms of the mean and variability of relevant quantities over a [30 year] period of time\"</blockquote>  One such <strong>relevant quantity</strong> is temperature, which itself reflects the amount of thermal radiation present in the system. Other important quantities are precipitation and wind. Navigate to the website: </p>\n",
        "<a href=\"http://www.ncdc.noaa.gov/data-access/land-based-station-data/land-based-datasets/climate-normals\">http://www.ncdc.noaa.gov/data-access/land-based-station-data/land-based-datasets/climate-normals</a>\n",
        "\n",
        "<p>The National Oceanographic and Atmospheric Administration, (NOAA), computes climate normals, which are publicly available. Here the term \"climate normal\" simply means a collection of averaged values for a local region. With a few more clicks we can find a document describing the climate of illinois:</p>\n",
        "\n",
        "<a href=\"http://hurricane.ncdc.noaa.gov/climatenormals/clim60/states/\" >http://hurricane.ncdc.noaa.gov/climatenormals/clim60/states/</a>\n",
        "\n",
        "<p>The WMO outline 5 criteria for the calculation of climate normals, but more precise details are left to the organization, NOAA in this case, performing the computation.  According to the WMO, climate normals should be an 1) unweighted 2) temporal average over 3) 30 years that 4) includes only past and present measures and that is 5) updated once per decade.  Why is this important? As modelers, our task is to formulate a mathematical expression for climate that is compatible with frequently used definitions for climate. A savvy modeler will render their output in a format allowing for comparison to observations, i.e. using the same averaging periods of the experimentalists. Thus, the first steps in climate model construction are to identify the controlling factors of climate and to quantify them in a manner compatible with standard definitions of climate and with exisiting observations to the extent possible.</p> \n",
        "\n",
        "<h4>2.2 Global Temperature</h4>\n",
        "If we are interested in global temperature, then we need to formulate our model based on the large scale energy flows. Climate modeling in this way can be reduced to a method of tracking <strong>energy flows</strong>. This brings us to Module 3, where we discussed the continuity equation as applied to fish (matter).  We may reformulate this principle to track energy flows, which are critical to our climate model. A relationship from thermodynamics will allow us to convert between heat and temperature in a relative sense. The Stefan-Boltzmann law states that the net radiated power from thermal radiation, F, is equivalent to emissivity of the radiator, $\n",
        "\\epsilon$, multiplied by the area, $A$, Stefan's constant, $\\sigma$, and the difference in temperature to the fourth power of the radiator.</p>\n",
        "\n",
        "Equation 3:\n",
        "\\begin{equation}\n",
        "F = \\epsilon \\sigma AT^4\n",
        "\\end{equation}\n",
        "\n",
        "<p>The Earth reflects about 34% of the solar energy received; the remainder is used to operate the climate and maintain the temperature of our planet. The Earth also radiates energy back into space -- equivalent to 66% of the energy that is received -- this implies that there is no net energy gain. Since the amount of energy received approximately equals the amount given back to space, the Earth is approximately in a steady state. Figure 2 shows a slight imbalance in the top of the atmosphere energy balance due to anthropogenic forcing. In reality, there is always a temporal and spatial imbalance that may fluctuate up and down over the years. In our model, we will start with a steady state representation, which is a roughly accurate picture of the global climate system over a period of 100 to 1000 years.</p>\n",
        "\n",
        "<h4>Question 2.1: Write two equations to represent the energy flows between the atmosphere, land surface, and space.</h4>\n",
        "<p>Do not worry about the exact details yet. What changes are you tracking over time? How does the energy flow between the reservoirs? What condition will we apply if the steady state condition is met?</p>\n",
        "\n",
        "YOUR ANSWER: This is basically already in my model below, so I'm going to refer to that as my answer.  Basically, it's energy into the atmosphere minus energy reflected and energy radiated for the atmosphere, plus energy radiated by the surface to the atmosphere.  For the surface it's energy in from the solar irradiance and energy radiated by the atmosphere, minus reflected energy and energy radiated by the surface."
      ]
    },
    {
      "cell_type": "markdown",
      "metadata": {
        "id": "-zod3WyuUIEt",
        "colab_type": "text"
      },
      "source": [
        "<h3> Part 3: Flows of Energy in the Climate System</h3>\n",
        "<h4>3.1 Insolation</h4>\n",
        "<p>Hydrogen fusion in the Sun creates an immense amount of energy, heating the surface to around 6000 K; the sun then radiates energy outwards in the 99% of it in the forms of ultraviolet, visible light and infrared. Planck's law describes this phenomena, and the amount of radiation emitted by the sun is about 1353 - 1395 $W/m^2$. The total amount reaching Earth's surface is about 340.2 $W/m^2$. This is a bit less than six 60 Watt light bulbs shining on every square meter of the surface, which adds up to a lot of light bulbs since the total surface area of Earth is 5.1 x $10^{14}$ $m^2$, a value which can be converted to about 55.6 x $10^{23}$ $J/yr$. The total amount of the sun's energy reaching Earth is roughly 10,000 times the amount of energy generated by humans each year.</p>\n",
        "\n",
        "Add this value to the coding cell marked GEBM below:\n",
        "<pre>solar = 340.2 # W/m^2</pre>\n",
        "\n",
        "<h4>3.2 Reflection</h4>\n",
        "<p>Of the incoming 340.2 $W/m^2$ of solar energy, approximately 22.7% is immediately reflected by clouds and clear sky, while 6.8% is reflected back from the land surface. Since it is estimated that clouds presently cover about 60% of the surface of the Earth, it follows that clouds are not perfect reflectors. Clouds appear to reflect about 47% of the solar energy. In contrast, the Earth's surface (dominated by water) reflects about 7% of the incident solar energy. The fraction of light that is reflected by a material is called the albedo, $\\alpha$. Black materials have an albedo of 0 (no reflection) if they are perfectly black and perfectly white materials have an albedo of 1.0 (total reflection). The table below lists some representative albedos for a variety of materials that cover the surface. Most of these albedos are sensitive to the angle of incidence of the sunlight; this is especially true for water. When the Sun is at an angle of $40\\,^{\\circ}$ and higher relative to the horizon, the albedo of the water is fairly constant, but as the angle decreases from $40\\,^{\\circ}$, the albedo increases dramatically, so that it is about 0.5 at a Sun angle of $10\\,^{\\circ}$ and 1.0 at a sun angle of $0\\,^{\\circ}$.</p>\n",
        "\n",
        "Table 1. Albedo of Earth Materials\n",
        "<table>\n",
        "<tr>\n",
        "<th>Substance</th> <th>Albedo, $\\alpha$ (% reflectance)</th>\n",
        "</tr>\n",
        "<tr>\n",
        "<td>Whole Planet (Surface + Clouds) </td><td> 0.30</td>\n",
        "</tr>\n",
        "<tr>    \n",
        "<td>Cumulonimbus clouds </td><td> 0.9</td>\n",
        "</tr>\n",
        "<tr>\n",
        "<td>Stratocumulus clouds </td><td> 0.6</td>\n",
        "</tr>\n",
        "<tr>\n",
        "<td>Cirrus clouds </td><td> 0.5</td>\n",
        "</tr>\n",
        "<tr>\n",
        "<td>Water </td><td> 0.06 - 0.1</td>\n",
        "</tr>\n",
        "<tr>\n",
        "<td>Ice and Fresh Snow </td><td> 0.9</td>\n",
        "</tr>\n",
        "<tr>\n",
        "<td>Sand </td><td> 0.35</td>\n",
        "</tr>\n",
        "<tr>\n",
        "<td>Grass lands </td><td> 0.18 - 0.25</td>\n",
        "</tr>\n",
        "<tr>\n",
        "<td>Deciduous forest </td><td> 0.15 - 0.18</td>\n",
        "</tr>\n",
        "<tr>\n",
        "<td>Coniferous forest </td><td> 0.09 - 0.15</td>\n",
        "</tr>\n",
        "<tr>\n",
        "<td>Rain forest </td><td> 0.07 - 0.15</td>\n",
        "</tr>    \n",
        "</table>\n",
        "\n",
        "<h4>Question 3.1: Which albedo value in the table above surprises you most, why? What do you think the albedo of black snow/ice is? How did you find out?</h4>\n",
        "\n",
        "YOUR ANSWER: none of these were particularly surprising to me, since I've seen these values before, but I think I always expect sand to reflect more than it actually does.  It absorbs quite a bit of energy.  I think I'm also surprised by the different types of clouds and how they act.  I didn't realize that cloud type actually made a difference."
      ]
    },
    {
      "cell_type": "markdown",
      "metadata": {
        "id": "zXGHuVxkUIEu",
        "colab_type": "text"
      },
      "source": [
        "<h4>3.3 Absorption of Energy</h4>\n",
        "<p>As mentioned above, a total of 29.4% of solar energy are reflected by our planet; the remaining 70.6% are absorbed. As shown in Fig. 2, gases in the atmosphere absorb 22.0%, while the land surface absorbs 48.5%, with most of that being absorbed by the oceans. The absorption of solar radiation in the atmosphere is due to water vapor, oxygen, ozone, and dust particles, all of which can absorb energy within the ultraviolet-visible portion of the spectrum. Materials on the surface also absorb in this part of the spectrum. Earth and atmospheric materials are also capable of absorbing energy in the infrared part of the spectrum, which is the energy emitted by the Earth surface and atmosphere. This infrared energy is absorbed in the atmosphere by water vapor, carbon dioxide, and other Greenhouse gases such as methane and CFCs.</p>\n",
        "\n",
        "<h4>3.4 Storage of Thermal Energy</h4>\n",
        "<p>As the atmosphere and Earth surface materials absorb ultraviolet, visible light, or infrared energy, they gain thermal energy. But, the rate of temperature rise with increasing thermal energy differs for many materials. This relationship is described by what is called the heat capacity of a substance. The heat capacities for some common materials are given in the table below.</p>\n",
        "\n",
        "Table 2. Heat Capacity of Earth Materials\n",
        "<table>\n",
        "<tr>\n",
        "<th>Substance</th> <th>Heat Capacity ($J kg^{-1} K^{-1}$)</th>\n",
        "</tr><tr>\n",
        "<td>Water</td><td>4184</td>\n",
        "</tr><tr>\n",
        "<td>Ice</td><td>2008</td>\n",
        "</tr><tr>\n",
        "<td>Average Rock</td><td>2000</td>\n",
        "</tr><tr>\n",
        "<td>Wet Sand (20\\% water)</td><td>1500</td>\n",
        "</tr><tr>\n",
        "<td>Snow</td><td>878</td>\n",
        "</tr><tr>\n",
        "<td>Dry Sand</td><td>840</td>\n",
        "</tr><tr>\n",
        "<td>Vegetated Land</td><td>830</td>\n",
        "</tr><tr>\n",
        "<td>Air</td><td>700</td>\n",
        "</tr>\n",
        "</table>\n",
        "\n",
        "<h4>Question 3.2: Which value is the largest in the table?  How will this value affect our climate model?</h4>\n",
        "\n",
        "YOUR ANSWER: Water is the largest in the table, and this will affect our climate model because it will change how much energy the atmosphere can hold based on the heat capacity of water.  If there's more water in the atmosphere, we can hold more heat.  Also, if we were to include the ocean as a box, we could model the energy there and how much energy the water holds."
      ]
    },
    {
      "cell_type": "markdown",
      "metadata": {
        "id": "rsPw6w1YUIEv",
        "colab_type": "text"
      },
      "source": [
        "<p>The vast range of heat capacities is extremely important to the operation of our climate system, and in particular, we should note the very high heat capacity of water. It heats slowly, cools slowly, and retains heat better than any other common substance. Heat capacities are also important when it comes to figuring out how much thermal energy is stored in a given reservoir. For instance, if we know the mass of a material, its heat capacity and its temperature, we can calculate how much thermal energy is stored in the material.</p>\n",
        "\n",
        "<p>Equally important is the rate of heating that can be seen from the above heat capacities. This information tells us that soil (some combination of wet and dry sand and vegetation gives a heat capacity of around 1000) warms up about 4 times faster than water, given the same rate of energy input, and air warms up somewhat faster than soil. Actually, the rate of warming is a bit more complex than just comparing heat capacities because the rate of energy input depends the albedo.</p>\n",
        " \n",
        "<h4>3.5 Heat Emission</h4>\n",
        "<p>All objects whose temperatures are above absolute zero emit energy proportional to their temperature. This energy is emitted in the form of electromagnetic radiation whose average wavelength is inversely proportional to the object's temperature. The rate of energy given off through radiation by an object is proportional to the fourth power of the object's temperature and is described by the Stefan-Boltzmann equation:</p>\n",
        "\n",
        "Equation 4: \n",
        "\\begin{equation}\n",
        "F = \\epsilon \\sigma AT^4\n",
        "\\end{equation}\n",
        " \n",
        "<p>where F is the rate of energy flow, or power, in Watts ($Js^{-1}$), $\\epsilon$ is the emissivity of the object, $\\sigma$ is the Stefan-Boltzmann constant, A is the surface area of the object, and T is the temperature of the object in Kelvin. The Stefan-Boltzmann constant has a value of 5.67 x $10^{-8}$ $W m^{-2} K^{-4}$. The emissivity is a dimensionless number and ranges from 0 to 1; a perfect black body has an emissivity of 1, while very shiny objects have an emissivity of close to 0. For example, human skin has an emissivity of 0.6 to 0.8. For the purposes of our simple model, the important thing is that the energy emitted is proportional to the fourth power of the temperature.</p>\n",
        "\n",
        "<p>Given the range of temperatures on Earth's surface, this emitted radiation occurs mainly within the infrared part of the spectrum. Earth's surface emits 117.0% of the incoming solar radiation as infrared radiation; of this, 109.4% is absorbed by greenhouse gases in the atmosphere, with the remaining 7.6% passing through the atmosphere (this \"leak\" is a measure of the efficiency of Earth's greenhouse). The atmosphere also emits infrared energy: 101.4% is directed back to the Earth's surface, while 70.4% is directed to outer space. The 101.4% sent back to the surface are absorbed and then re-radiated to the atmosphere, which again absorbs most of it and then returns much of that back to the surface, recycling the energy and giving rise to the greenhouse effect.</p>\n",
        "\n",
        "<h4>3.6 Latent Heat Transport by Evaporation and Condensation</h4>\n",
        "<p>Earth's surface also contributes heat to the atmosphere in two other ways. About 25.9% of the solar energy is transferred to the atmosphere by the evaporation of water at the surface and the later condensation of that water vapor in the atmosphere. When water evaporates, it steals heat from the surface; that heat is called latent heat and it is released when the vapor condenses.</p>\n",
        "\n",
        "<h4>3.7 Sensible Heat Transfer by Conduction and Convection</h4>\n",
        "<p>Air in direct contact with the surface is heated and then rises, transporting that heat to higher levels in the atmosphere; this process of convection transfers approximately 7% of energy from the surface to the atmosphere.</p>"
      ]
    },
    {
      "cell_type": "markdown",
      "metadata": {
        "id": "scDadc8dUIEw",
        "colab_type": "text"
      },
      "source": [
        "<h3>Part 4: Construction of a Climate Model</h3>\n",
        "<p>Our task is two-fold, we will first construct our own climate model, and then run a variety of experiments on our model. In this section we will consider the sources and sinks and energy exchange of our two box model and formulate a function: <pre>def geb_climate(param, t, temps):</pre>which we may solve with a multi-dimensional <pre> rk4()</pre> function. Part two will ask you to experiment with your model to answer some questions.</p>\n",
        "\n",
        "Go to the coding cell marked GEBM below, and start your function:\n",
        "<pre>geb_climate(param, t, temps):\n",
        "\n",
        "        return [dsurf_dt, datms_dt]</pre>\n",
        "\n",
        "<h4>Part 4.1: Initial Values</h4>\n",
        "<p>As you well know, all models require initial conditions. To create our climate model, we need to estimate the starting amounts of thermal energy in our two reservoirs: the Atmosphere and the Earth's Surface, which primarily includes the oceans. Your initial surface temperature should be set to 289 K, and your initial atmospheric temperature to 267 K. We'll tune these number to achieve a steady state later on.</p>\n",
        "\n",
        "Add these values to the coding cell marked GEBM below:\n",
        "<pre>temp_ini = [288.11, 268.17]</pre>\n",
        "\n",
        "<p>To start writing our climate model function, we need a relation from thermodynamics to equate the a change in temperature with respect to time to a power.</p>\n",
        "\n",
        "Equation 5:\n",
        "\\begin{equation}\n",
        "\\frac{dQ}{dT} = C_v\t\n",
        "\\end{equation}\n",
        "\n",
        "<p>In the relation above we equate a change in heat with respect to the change in temperature at a constant volume to the specific heat capacity, $C_v$. Values of specific heat at constant volume are presented in the table found in section 1.3.4, note that they have the units of $Jkg^{-1}K^{-1}$.</p>\n",
        "\n",
        "Equations 6 and 7:\n",
        "\\begin{equation}\n",
        "\\frac{DT_{surf}}{dt} = \\beta_{surf}\\cdot{(\\frac{dE_{surf\\ in}}{dt} - \\frac{dE_{surf\\ out}}{dt})}\n",
        "\\end{equation}\n",
        "\n",
        "\\begin{equation}\n",
        "\\frac{DT_{atms}}{dt} = \\beta_{atms}\\cdot{(\\frac{dE_{atms\\ in}}{dt} - \\frac{dE_{atms\\ out}}{dt})}\n",
        "\\end{equation}\n",
        "\n",
        "Add the value to the coding cell marked GEBM below:\n",
        "<pre>ref_atms = 0.226</pre>  \n",
        "\n",
        "\n",
        "<p>The constants $\\beta_{surf}$, and $\\beta_{atms}$ are related to the inverse specific heat, and serve to convert the units of the rate of change in energy, measured as $Wm^{-2}$ into the unit $K/yr$. Thus, the value of $\\beta_{atms}$ must have the units $Km^2W^{-1}$. To calculate $\\beta_{surf}$, we need to convert seconds to year and divide this term by the specific heat multiplied by both the density of water and the mixed layer depth. Let's assume that the mixed layer depth is 50 $m$, and the specific heat is given in Table 2.</p>\n",
        "\n",
        "Equation 8:\n",
        "\\begin{equation}\n",
        "\\beta_{surf} = \\frac{31,536,000\\frac{s}{yr}}{\\rho_{water}\\cdot{C_{v \\ water}\\cdot{MLD}}}\n",
        "\\end{equation}\n",
        "\n",
        "<p>A similar calculation can be made for the atmosphere.</p>\n",
        "\n",
        "Equation 9:\n",
        "\\begin{equation}\n",
        "\\beta_{atms} =  \\frac{31,536,000\\frac{s}{yr}}{{10,000}\\frac{kg}{m^2}\\cdot{C_{v \\ air}}}\n",
        "\\end{equation}\n",
        "\n",
        "<p>In the equation for $\\beta_{atms}$, we divide the second to year conversion factor by the kilograms of air in a $m^{2}$ column multiplied by the specific heat of the air.</p>\n",
        "\n",
        "Add the values to the coding cell marked GEBM below:\n",
        "<pre>\n",
        "mld = 50.0\n",
        "beta_surf = 31536000./(1000.*4184*mld) # Using Joules/kg/K\n",
        "beta_atms = 31536000./(700*10000) # Using Joules/kg/K\n",
        "</pre>\n",
        "\n",
        "<h4>Part 4.2: Solar to Surface: Input to Surface Temperature</h4>\n",
        "<p>There are two primary contributions powering the surface temperature reservoir, the direct solar input and the back radiation of the atmosphere leading to the surface absorption of IR (see Figure 2). The solar energy that reaches and is absorbed by the land surface is strongly dependent on the percentage of the surface covered by clouds, on the albedo of the surface, and on the fraction of the insolation absorbed by the atmosphere. A simple formulation for the solar input to the surface reservoir is</p>\n",
        "\n",
        "Equation 10:\n",
        "\\begin{equation}\n",
        "\\frac{dE_{surf \\ in}}{dt} = \\frac{dE_{sol}}{dt}\\cdot{(1 - R_{surf} - R_{atms} - Abs_{atms})}\n",
        "\\end{equation}\n",
        "\n",
        "<p>where solar input, $\\frac{E_{sol}}{dt}$, is a constant value of 340.2 $Wm^{-2}$, $R_{surf}$ is the fraction of radiation reflected from the surface, $R_{atms}$ is the fraction reflected by the atmosphere, and $Abs_{atms}$ is the proportion of short wave radiation absorbed by the atmosphere. Reflected insolation, $R_{atmos}$, is the amount of energy units reflected back into space by clouds, and will be estimated as 0.246 or 74.7 $Wm^{-2}$/ 340.2 $Wm^{-2}$. We will later change $R_{atmos}$ to reflect increased cloud cover.</p>\n",
        "  \n",
        "Add equation 10 to your geb_climate( ) model.  \n",
        "Add the value to the coding cell marked GEBM below:\n",
        "<pre>ref_atms = 0.226</pre>  \n",
        "    \n",
        "<p>$R_{surf}$ is somewhat more complex in our Global Energy Balance Model, since it accounts for the melting of ice on the surface. Essentially what this equation tells us is that at a $T_{surf}$ 289 K, we will have a fraction of reflected insolation equivalent to 23 $Wm_{-2}$/340.2 $Wm_{-2}$. The larger the temperature differential between the surface and 260 K, the lesser the effect of reflection from ice. The closer to 260 K, the larger the effect of reflection due to ice.</p>\n",
        "\n",
        "Equation 11:\n",
        "\\begin{equation}\n",
        "R_{surf} = 0.0825 + 0.38\\cdot{exp(-0.006\\cdot{(T_{surf} - 260.0)^2)}}\n",
        "\\end{equation}\n",
        "\n",
        "Add a function to the coding cell marked GEBM below:\n",
        "<pre>def ref_surf(tsurf):<br />\n",
        "          return ?\n",
        "</pre>\n",
        "\n",
        "\n",
        "<h4>Question 4.1: What do you think the minimum surface temperature is for this relationship to be valid?</h4>\n",
        "<p>How would you build this minimum into your model? As it turns out, estimating the surface reflectivity for climate models is actually a challenging problem currently under investigation.</p>\n",
        "\n",
        "Probably 260, could perhaps end the simulation once the surface reaches 260 or add a condition that the reflectivity stays at around 0.45 for all temperatures less than 260.  (did I write this?  I don't remember.  I don't know where I would have gotten this information from).\n",
        "My answer: I could write an if statement to build a minimum into my model, where if the temperature falls below a certain range I could end the model. Although based on the above equation, it'll have to be something above 260 just because of how the equation is written.\n",
        "    \n",
        "\n",
        "<h4>Question 4.2: Plot the above equation over a range of temperatures using np.linspace().</h4>\n",
        "<p>Describe your results and make a statement about how this plot applies to your model. </p>\n",
        "\n",
        "YOUR ANSWER:  With finals coming up, I didn't really feel like I had the time to answer this question.  If I had to guess, it'd be something about how temperatures are only valid in a range that's around typical earth temperatures.\n"
      ]
    },
    {
      "cell_type": "code",
      "metadata": {
        "id": "vKSUKY-RUIEx",
        "colab_type": "code",
        "colab": {}
      },
      "source": [
        "# Plot Goes Here ...\n"
      ],
      "execution_count": 0,
      "outputs": []
    },
    {
      "cell_type": "markdown",
      "metadata": {
        "id": "VmUm5ao1UIE1",
        "colab_type": "text"
      },
      "source": [
        "<h4>Part 4.3: Atmospheric Input to Surface Temperature</h4>\n",
        "<p>The back radiation of the atmosphere represents the second major contribution to the surface temperature reservoir. This term is dependent upon a number of factors including the water vapor and $CO_2$ present in the atmosphere. Since the atmosphere is radiating, we treat it as an ideal black body and use the Stefan-Boltzmann relation as follows.</p>\n",
        "\n",
        "Equation 12: \n",
        "\\begin{equation}\n",
        "\\frac{dE_{surf \\ in}}{dt} = 5.67\\cdot{10^{-8}}\\cdot{(1.25\\cdot{ ems_{atms}})\\cdot{T_{atms}^4}}\n",
        "\\end{equation}\n",
        "\n",
        "Add equation 12 to your geb_climate( ) function.\n",
        "\n",
        "<p>Here $ems_{atms}$ represents the emission of radiation by the atmosphere. We assume that the emission will be dependent upon amounts of $CO_2$ and $H_2O$ present in the atmosphere, one of the processes involved in the greenhouse effect. The total of the emitted radiation at the atmospheric temperature of 267 must be 324 $Wm^-2$. Furthermore, we will assume that the at 320 ppm, $CO_2$ accounts for 3% of the atmospheric emitted radiation, $H_2O$ will be heavily dependent on the surface temperature and contribute somewhere near 10% to the total emissions, with basal emissions at 76%.</p>\n",
        "\n",
        "Equation 13:\n",
        "\\begin{equation}\n",
        "ems_{atms} = 0.76 + 0.03\\cdot{(\\sqrt{(CO_2/320.0)})^3} + 0.10 \\cdot {H_2O}\t\n",
        "\\end{equation}\n",
        "\n",
        "Add the value to the coding cell marked GEBM below:\n",
        "<pre>co2 = 320.0</pre>\n",
        "\n",
        "Add a function to the coding cell marked GEBM, and be sure to include equation 14:\n",
        "<pre>def ems_atms(tsurf, co2, h2o):<br />\n",
        "          return ?\n",
        "</pre>\n",
        "\n",
        "<p>Where $CO_2$ is the concentration of $CO_2$ in the atmosphere in ppm (start with 320 ppm), and $H_2O$ is the amount of water in the atmosphere given by a variation of the August-Roche-Magnus equation parameterized to work for our simplified model.</p>\n",
        "\n",
        "Equation 14:\n",
        "\\begin{equation}\n",
        " H_2O =  K_{H_2O}\\cdot{(0.6+0.5\\cdot{exp(5420\\cdot{(T_{surf}-288.03)/(T_{surf}\\cdot{288.03})})})}\n",
        "\\end{equation}\n",
        "\n",
        "<p>To start your model, assume that $K_{H_2O}$ is 1, and this parameter may be varied in model runs.</p>\n",
        "\n",
        "\n",
        "<h4>Part 4.4: Surface Sinks</h4>\n",
        "<p>The surface also emits infrared (longwave) radiation, 398 $Wm^{-2}$ to the atmosphere and space, and due to the flux of latent (88 $Wm^{-2}$) and sensible heat (24 $Wm^{-2}$) from surface. Therefore our equation should include a Stefan-Boltzmann term as well as loss due to the Latent and Sensible heat flux, or $LSH_{flux}$ below.</p>\n",
        "\n",
        "Equation 15:\n",
        "\\begin{equation}\n",
        "\\frac{dE_{surf \\ out}}{dt} = 5.67\\cdot{10^{-8}}\\cdot{T_{surf}^4} + LSH_{flux}\n",
        "\\end{equation}\n",
        "\n",
        "Add equation 15 to your geb_climate( ) function.\n",
        "\n",
        "<p>The term for the latent and sensible heat depends on the temperature differential between the atmosphere and surface, and is again an estimate based on the values depicted in Figure (2).</p>\n",
        "\n",
        "Equation 16:\n",
        "\\begin{equation}\n",
        "\tLSH_{flux} = 104.0\\cdot{((T_{surf}-T_{atms})/20.55)^{0.5}}\n",
        "\\end{equation}\n",
        "\n",
        "Add a function to the coding cell marked GEBM below:\n",
        "<pre>def lsh_flux(tsurf):<br />\n",
        "          return ?\n",
        "</pre>\n",
        "\n",
        "<h4>Part 4.5: Solar to Atmosphere, Input to the Atmosphere</h4>\n",
        "<p>This flow is defined using the same approach as the solar to surface flow:</p>\n",
        "\n",
        "Equation 17:\n",
        "\\begin{equation}\n",
        "\\frac{dE_{atms \\ in}}{dt} = abs_{atms}E_{sol}\n",
        "\\end{equation}\n",
        "\n",
        "Add equation 17 to your geb_climate( ) function. \n",
        "\n",
        "<p>The terms in this equation are defined as described above, and $abs_{atms}$ should be set to 0.220, which is simply 75 $Wm^{-2}$ / 340.2 $Wm^{-2}$.</p>\n",
        "\n",
        "Add the value to the coding cell marked GEBM below:\n",
        "<pre>abs_atms = 0.220</pre>  \n",
        "\n",
        "<h4>Part 4.6: Surface to Atmosphere, Input to the Atmosphere</h4>\n",
        "<p>We derived the terms below as output from the surface. Since they are also input terms for the atmosphere, they couple our equations 6 and 7. </p>\n",
        "\n",
        "Equation 18:\n",
        "\\begin{equation}\n",
        "\\frac{dE_{atms \\ in}}{dt} = 5.67\\cdot{10^{-8}}\\cdot{ems_{atms}}\\cdot{T_{surf}^{4}} + LSH_{flux}\n",
        "\\end{equation}\n",
        "\n",
        "Add equation 18 to your geb_climate( ) function.\n",
        "\n",
        "<h4>Part 4.7: Atmospheric Sinks and a Surface Source</h4>\n",
        "<p>Analogous to the previous flow, this one is designed to change as the temperature of the atmosphere changes</p>\n",
        "\n",
        "Equation 19:\n",
        "\\begin{equation}\n",
        "\\frac{dE_{atms \\ out}}{dt} =  5.67\\cdot{10^{-8}}\\cdot{2.0 \\cdot ems_{atms}\\cdot{T_{atms}^{4}}}\n",
        "\\end{equation}\n",
        "\n",
        "Add equation 19 to your geb_climate( ) function.\n",
        "\n",
        "<p>This time we have a contribution to the atmospheric temperature due to surface radiation, while the atmosphere loses to space and gains from the latent and sensible heating.</p>\n",
        "\n",
        "<p>Using the above definitions create a depiction of your model components for your blog. Use this diagram to piece together your model. Once the model is assembled and the components are defined, the model should be in an initial steady state, meaning that {\\bf NOTHING} should change. This steady state serves as the control for a series of experiments in which different aspects of the system are changed in order to answer specific questions.</p>\n",
        "\n",
        "<h4>Part 4.8: Time and the Integration Timestep $\\Delta t$</h4>\n",
        "<p>Notice that we assumed a conversion from days to years in our model. However, the calculations have to be done in shorter time steps because of the magnitudes of the flows relative to the size of the atmosphere reservoir. As a general rule of thumb, the time step, or $\\delta t$ of the numerical integration has to be small enough so that in each calculation, the withdrawals from a reservoir do not exceed the amount in the reservoir. As with all numerical integrations, the shorter the time step, the better the solution. The trade-off is that a shorter time step means more calculations and thus slower performance. In the case of this model, a time step of 0.001 years gives reasonable results (reducing the time step further does not alter the results).</p>\n",
        "\n",
        "<p>Now that we have defined all of the equations, initial conditions and timesteps, you should be able to write a function representing the time rate of change of the temperature of the surface and atmosphere.  You will need to adapt rk4( ) to allow for multiple variables.  This task is the first part of your assignment.</p> \n"
      ]
    },
    {
      "cell_type": "code",
      "metadata": {
        "scrolled": false,
        "id": "0qTQLia_UIE2",
        "colab_type": "code",
        "outputId": "366166b7-09f8-4ba0-d38c-5114cadd4ae8",
        "colab": {
          "base_uri": "https://localhost:8080/",
          "height": 530
        }
      },
      "source": [
        "# GEB model equilibrated to 320. ppm or whatever mixing ratio you like.\n",
        "#GEBM Model Here\n",
        "def e_to_temp(e, albedo): #where e is in w/m^2 and albedo is percent reflected, returns in celsius\n",
        "  t = ((e*(1-albedo)/5.67e-8)**.25)\n",
        "  temp = t-273.15\n",
        "  return temp\n",
        "\n",
        "# def geb_model(param,t,x0): #x0 is the intial condition temps of the atmosphere, surface\n",
        "#   #first have the function for the atmosphere, with four inputs (solar, three surface outputs) and four outputs (two surface inputs, longwave to space, shortwave reflection), and parameters\n",
        "#   #second, have the function for the surface, with two inputs (shortwave from sun and longwave atmosphere emission), three outputs(latent, sensible, longwave), and parameters affecting them\n",
        "#   #Produce an array that keeps track of energy present in each box (atmosphere, surface) in relation to time, in w/m2\n",
        "#   #using the boltzmann equation, convert energy (w/m2) to temperature and store in another array, in degree C (or f, or K).  Return this temperature array.\n",
        "\n",
        "# param=[340, .226, .210, 320., 50, 1]\n",
        "# temps = [288.21, 267.81]\n",
        "\n",
        "#A runge-kutta model that can take in and put out multiple sets of variables\n",
        "def rk4_geb(my_func, param, temps, sim_time, timestep): #my_func will be the GEB_model. x0 should be a list, [ta0, ts0], but could be any number of boxes\n",
        "  import numpy as np\n",
        "  \n",
        "\n",
        "  val = np.size(temps)\n",
        "  # Initializing our solution array\n",
        "  n = int(np.ceil(sim_time/timestep)) \n",
        "  temp = np.zeros([n,val+1]) # I am initializing my array to hold {val} dependent variables\n",
        "  temp[0,0] = 0 #initial time column\n",
        "  for i in range(val):\n",
        "    temp[0,i+1] = temps[i]\n",
        "  \n",
        "  for i in range(n-1):\n",
        "    k1 = my_func(param, temp[i,0], temp[i,1:])*timestep #temp[i,0] is the time, pop[i,1] is x.\n",
        "    #print(k1)\n",
        "    k2 = my_func(param, temp[i,0] + timestep/2, temp[i,1:] + k1/2)*timestep\n",
        "    #print(k2)\n",
        "    k3 = my_func(param, temp[i,0] + timestep/2, temp[i,1:] + k2/2)*timestep\n",
        "    #print(k3)\n",
        "    k4 = my_func(param, temp[i,0] + timestep, temp[i,1:] + k3)*timestep\n",
        "    temp[i+1,0] = temp[i,0] + timestep\n",
        "    temp[i+1,1:] = temp[i,1:] + k1/6 + k2/3 + k3/3 + k4/6 \n",
        "    #temp_rk4 = temp\n",
        "\n",
        "  return temp #this is [val] VARIABLES BEING PRODUCED\n",
        "\n",
        "#param = [solar insolation, atmsohere reflection, atmosphere absorption, co2 concentrate, mixed layer depth, kh2o]\n",
        "param=[340, .226, .210, 320., 50, 1]\n",
        "temps=[288.21,267.81]\n",
        "\n",
        "model = rk4_geb(geb_climate, param, temps, 50, .01)\n",
        "import matplotlib.pyplot as plt\n",
        "#print(model)\n",
        "fig,ax = plt.subplots(figsize=(12,8))\n",
        "ax.plot(model[:,0],model[:,1]-273.15,'r-',label='Surface')\n",
        "ax.plot(model[:,0],model[:,2]-273.15,'b-',label='Atmosphere',)\n",
        "ax.set_title('Atmosphere and Surface Temperatures')\n",
        "ax.set_ylabel('Temp (C)')\n",
        "ax.set_xlabel('Time')\n",
        "ax.legend()"
      ],
      "execution_count": 0,
      "outputs": [
        {
          "output_type": "execute_result",
          "data": {
            "text/plain": [
              "<matplotlib.legend.Legend at 0x7f0e807920b8>"
            ]
          },
          "metadata": {
            "tags": []
          },
          "execution_count": 23
        },
        {
          "output_type": "display_data",
          "data": {
            "image/png": "[encoded data removed]",
            "text/plain": [
              "<Figure size 864x576 with 1 Axes>"
            ]
          },
          "metadata": {
            "tags": []
          }
        }
      ]
    },
    {
      "cell_type": "code",
      "metadata": {
        "id": "J05EW_6wVial",
        "colab_type": "code",
        "outputId": "2ebc968b-4467-44ca-e057-56923de6012a",
        "colab": {
          "base_uri": "https://localhost:8080/",
          "height": 34
        }
      },
      "source": [
        "#SLACK SKELETON ITERATION OF CODE, GIVEN BY ANNA, filled in by me\n",
        "import numpy as np\n",
        "\n",
        "def ref_surf_fun(tsurf): #this function gives the fraction of radiation reflected by the surface, dependent on surface temp/melting ice\n",
        "    return 0.0825 + 0.38*np.exp(-0.006*(tsurf-260)**2)\n",
        "\n",
        "def ems_atms_fun(tsurf, kh2o, co2): #this function is the emission of radiation by the atmosphere, dependent on kh2o/water in the atmosphere, the surface temp, and co2 mixing rate\n",
        "    h2o = kh2o*(0.6 + 0.6*np.exp(5420*(tsurf-288.03)/(tsurf*288.03)))\n",
        "    return 0.76 + 0.03*((co2/320.))**(3/2) + 0.10*h2o\n",
        "    \n",
        "def lsh_flux_fun(tsurf, tatms): #represents loss due to latent/sensible heating flux\n",
        "    return 104*((tsurf-tatms)/20.55)**0.5\n",
        "\n",
        "def beta_surf_func(mld):\n",
        "    return 31536000/(1000.*4148*mld)\n",
        "\n",
        "#param = [solar insolation, atmsohere reflection, atmosphere absorption, co2 concentrate, mixed layer depth, kh2o]\n",
        "#example: param=[340.2, .226, .220, 302, 50, 1]\n",
        "#example: temps=[288.11,268.17]\n",
        "def geb_climate(param, t, temps):\n",
        "    import numpy as np\n",
        "    import matplotlib.pyplot as plt\n",
        "\n",
        "    solar = param[0]     #solar insolation, generally 340.2 w/m^2\n",
        "    ref_atms = param[1]  #generally 0.226, this is the fraction insolation reflected by the atmosphere (but not the clouds)\n",
        "    abs_atms = param[2]  #generally .220, absorption coefficient for atmosphere, how much is getting absorbed (water and co2)\n",
        "    co2 = param[3]       #mixing rate of c02, about 320 ppm in 1965.\n",
        "    mld = param[4]       #the mixed layer depth, generally around 50 meters\n",
        "    # #beta_surf = param[5] #DEPENDENT ON MIXED LAYER DEPTH, a value equal to 31536000/(density of water*heat capacity water*mixed layer depth), conversion factors from energy to temperature\n",
        "    beta_atms = 31536000/(10000.*700) #a constant value equal to 31536000/(10000*heat capacity air(700))\n",
        "    sig = 5.67e-8       #Boltzmann constant, 5.67e-8\n",
        "    kh2o = param[5]      #I think this is the mixing rate of water vapor in air?  Or something?  For the beginning, assume it's 1.\n",
        "    \n",
        "    surf_temp = temps[0] #These are the intial temperatures, approximately [surface = 288.11, atmos = 268.17], in Kelvin.\n",
        "    atms_temp = temps[1] #about 268.11 kelvin\n",
        "    \n",
        "    # Call in external functions\n",
        "    ref_surf = ref_surf_fun(surf_temp)\n",
        "    ems_atms = ems_atms_fun(surf_temp, kh2o, co2)\n",
        "    lsh_flux = lsh_flux_fun(surf_temp, atms_temp)\n",
        "    beta_surf = beta_surf_func(mld)\n",
        "    \n",
        "    p_surfin = solar*(1 - ref_atms - abs_atms - ref_surf) + sig*1.25*ems_atms*atms_temp**4\n",
        "    p_surfout = sig*surf_temp**4 + lsh_flux\n",
        "    p_atmsin = abs_atms*solar + sig*ems_atms*surf_temp**4 + lsh_flux\n",
        "    p_atmsout = sig*2*ems_atms*atms_temp**4\n",
        "    \n",
        "    dtemp_surf_dt = beta_surf*(p_surfin - p_surfout)\n",
        "    dtemp_atms_dt = beta_atms*(p_atmsin - p_atmsout)\n",
        "\n",
        "    temp_vals = np.array([dtemp_surf_dt, dtemp_atms_dt])\n",
        "    #print(beta_surf, beta_atms, ref_surf, ref_atms, abs_atms, ems_atms, lsh_flux, p_surfin, p_surfout, p_atmsin, p_atmsout)\n",
        "    return temp_vals\n",
        "\n",
        "param=[340, .226, .210, 320., 50, 1]\n",
        "temps=[288.21,267.81]\n",
        "geb_climate(param, 0.01, temps) "
      ],
      "execution_count": 0,
      "outputs": [
        {
          "output_type": "execute_result",
          "data": {
            "text/plain": [
              "array([-0.02835188,  0.24633257])"
            ]
          },
          "metadata": {
            "tags": []
          },
          "execution_count": 12
        }
      ]
    },
    {
      "cell_type": "code",
      "metadata": {
        "id": "oEmVPiUQb1I0",
        "colab_type": "code",
        "outputId": "e71cd360-5fa6-4221-9063-60778861e2a0",
        "colab": {
          "base_uri": "https://localhost:8080/",
          "height": 34
        }
      },
      "source": [
        "#David's Code\n",
        "def ref_surf_fun(tsurf):\n",
        "    return 0.0825+0.38*np.exp(-0.006*(tsurf-260.0)**2)\n",
        "\n",
        "def ref_surf_fun_old(tsurf):\n",
        "    return (0.3825 + 0.38*np.exp(-0.006*(tsurf - 260.0)**2))\n",
        "\n",
        "def ems_atms_fun(tsurf, kh2o, co2):\n",
        "    h2o = kh2o*(0.6 + 0.6*np.exp(5420*(tsurf-288.03)/(tsurf*288.03)))\n",
        "    return 0.76+0.03*((co2/320.0))**(3/2)+0.10*h2o\n",
        "\n",
        "def ems_atms_fun_old(tsurf, kh2o, co2):\n",
        "    h2o = kh2o*(0.6 + 0.5*np.exp(5420*(tsurf-288.0)/(tsurf*288.0)))\n",
        "    return 0.76 + 0.03*((co2/320.0)**1.5) + 0.10*h2o\n",
        "\n",
        "def lsh_flux_fun(tsurf, tatms):\n",
        "    return 104.*((tsurf-tatms)/20.55)**0.5\n",
        "\n",
        "def geb_climate_david(param, t, temps):\n",
        "\n",
        "    solar = param_d[0]\n",
        "    ref_atms = param_d[1]\n",
        "    abs_atms = param_d[2]\n",
        "    co2 = param_d[3]\n",
        "    mld = param_d[4]\n",
        "    beta_surf = param_d[5]\n",
        "    beta_atms = param_d[6]\n",
        "    sig = param_d[7]\n",
        "    kh2o = param_d[8]\n",
        "\n",
        "    surf_temp = temps[0]\n",
        "    atms_temp = temps[1]\n",
        "\n",
        "    # Call in external functions\n",
        "    ref_surf = ref_surf_fun(surf_temp)\n",
        "    ems_atms = ems_atms_fun(surf_temp, kh2o, co2)\n",
        "    lsh_flux = lsh_flux_fun(surf_temp, atms_temp)\n",
        "\n",
        "    p_surfin = solar*(1 - ref_atms - abs_atms - ref_surf) + sig*1.25*ems_atms*atms_temp**4.\n",
        "    p_surfout = sig*surf_temp**4. + lsh_flux\n",
        "\n",
        "    p_atmsin = abs_atms*solar + sig*ems_atms*surf_temp**4. + lsh_flux\n",
        "    p_atmsout = sig*2.0*ems_atms*atms_temp**4.\n",
        "\n",
        "    dtemp_surf_dt = beta_surf*(p_surfin - p_surfout)\n",
        "    dtemp_atms_dt = beta_atms*(p_atmsin - p_atmsout)\n",
        "\n",
        "    #print(beta_surf, beta_atms, ref_surf, ref_atms, abs_atms, ems_atms, lsh_flux, p_surfin, p_surfout, p_atmsin, p_atmsout)\n",
        "    return np.array([dtemp_surf_dt, dtemp_atms_dt])\n",
        "param_d = [340.2, .226, .210, 320, 50, 31536000/(997*4148*50), 31536000/(10000*700), 5.67e-8, 1]\n",
        "temps = [288.11, 268.17]\n",
        "geb_climate_david(param, 10, temps)"
      ],
      "execution_count": 0,
      "outputs": [
        {
          "output_type": "execute_result",
          "data": {
            "text/plain": [
              "array([  0.49313803, -19.63073258])"
            ]
          },
          "metadata": {
            "tags": []
          },
          "execution_count": 7
        }
      ]
    },
    {
      "cell_type": "markdown",
      "metadata": {
        "id": "dbJHMdoxUIE5",
        "colab_type": "text"
      },
      "source": [
        "<h3>Part 5: Experimentation with the Two Box Climate Model</h3>\n",
        "<p>While performing experiments with this model, it may be especially helpful to monitor changes by plotting relative temperatures rather than the energy values. For each of the experiments below, there are a few questions that you can consider to help guide your inquiry.</p>\n",
        " \n",
        "<h4>Question 5.1: Altering the Solar Input -- Investigating the Response Time and Sensitivity</h4>\n",
        "\n",
        "<p>In this experiment, we investigate two simple questions: 1) How quickly does our model climate system respond to changes (response time)?, and 2) How sensitive is this climate system to changes in the solar energy received by Earth?</p>\n",
        "\n",
        "<p>Restating question 2, if we change the solar input by 3%, how much warmer does the our model Earth become and how quickly will it accomplish this warming? Furthermore, we may ask what the pattern of response is, which part of the system reacts more quickly and which more slowly? We know that the solar input does vary in the real world, so these are reasonable experiments to do. We can begin to answer these two questions very simply, by changing the value of the solar input, we can easily run a whole series of model simulations with specified changes in the solar input.</p>\n",
        "\n",
        "<p>The response time of the system as a whole is related to the lag time of the system, which can be observed through another experiment in which we create a spike in the solar input. To do this, we need to redefine the solar input as an array.  What might be another approach?</p>\n",
        "\n",
        "<p>What are the lag times of the two reservoirs? Why is one shorter than another?\n",
        "Are the lag times a function of the length of time of the solar spike?\n",
        "Based on these experiments, what can you predict about the relationship between the winter solstice and the coldest part of the year?</p>"
      ]
    },
    {
      "cell_type": "code",
      "metadata": {
        "id": "ivygzVYxUIE6",
        "colab_type": "code",
        "outputId": "26d42d41-42e5-408e-9d00-0710ddedef6d",
        "colab": {
          "base_uri": "https://localhost:8080/",
          "height": 530
        }
      },
      "source": [
        "# Solar increase to by a factor of 1.03\n",
        "param=[340*1.03, .226, .210, 320., 50, 1]\n",
        "temps = [288.21, 267.81]\n",
        "model = rk4_geb(geb_climate, param, temps, 100, .01)\n",
        "import matplotlib.pyplot as plt\n",
        "#print(model)\n",
        "fig,ax = plt.subplots(figsize=(12,8))\n",
        "ax.plot(model[:,0],model[:,1]-273.15,'r-',label='Surface')\n",
        "ax.plot(model[:,0],model[:,2]-273.15,'b-',label='Atmosphere',)\n",
        "ax.set_title('Atmosphere and Surface Temperatures')\n",
        "ax.set_ylabel('Temperature (C)')\n",
        "ax.set_xlabel('Time')\n",
        "ax.legend()\n"
      ],
      "execution_count": 0,
      "outputs": [
        {
          "output_type": "execute_result",
          "data": {
            "text/plain": [
              "<matplotlib.legend.Legend at 0x7f0d9c1ca1d0>"
            ]
          },
          "metadata": {
            "tags": []
          },
          "execution_count": 15
        },
        {
          "output_type": "display_data",
          "data": {
            "image/png": "[encoded data removed]",
            "text/plain": [
              "<Figure size 864x576 with 1 Axes>"
            ]
          },
          "metadata": {
            "tags": []
          }
        }
      ]
    },
    {
      "cell_type": "code",
      "metadata": {
        "id": "n7zWT63dUIE9",
        "colab_type": "code",
        "outputId": "ec453b17-ccb0-482d-bab7-1d3ae4968c87",
        "colab": {
          "base_uri": "https://localhost:8080/",
          "height": 530
        }
      },
      "source": [
        "# Solar impulse for three years\n",
        "\n",
        "# solar = np.zeros([int(10/0.01),1])\n",
        "# solar[0] = 340\n",
        "# solar[1:5] = 340*1.05\n",
        "# solar[5:] = 340\n",
        "# #print(solar)\n",
        "\n",
        "def geb_climate_impulse(param, t, temps):\n",
        "    import numpy as np\n",
        "    import matplotlib.pyplot as plt\n",
        "\n",
        "    solar = param[0]     #solar insolation, generally 340.2 w/m^2\n",
        "    ref_atms = param[1]  #generally 0.226, this is the fraction insolation reflected by the atmosphere (but not the clouds)\n",
        "    abs_atms = param[2]  #generally .220, absorption coefficient for atmosphere, how much is getting absorbed (water and co2)\n",
        "    co2 = param[3]       #mixing rate of c02, about 320 ppm in 1965.\n",
        "    mld = param[4]       #the mixed layer depth, generally around 50 meters\n",
        "    # #beta_surf = param[5] #DEPENDENT ON MIXED LAYER DEPTH, a value equal to 31536000/(density of water*heat capacity water*mixed layer depth), conversion factors from energy to temperature\n",
        "    beta_atms = 31536000/(10000.*700) #a constant value equal to 31536000/(10000*heat capacity air(700))\n",
        "    sig = 5.67e-8       #Boltzmann constant, 5.67e-8\n",
        "    kh2o = param[5]      #I think this is the mixing rate of water vapor in air?  Or something?  For the beginning, assume it's 1.\n",
        "    \n",
        "    surf_temp = temps[0] #These are the intial temperatures, approximately [surface = 288.11, atmos = 268.17], in Kelvin.\n",
        "    atms_temp = temps[1] #about 268.11 kelvin\n",
        "    \n",
        "    # if t >= 7 and t <= 10:\n",
        "    #   solar = param[0]*1.05\n",
        "    # else:\n",
        "    #   solar = param[0]\n",
        "\n",
        "    # Call in external functions\n",
        "    ref_surf = ref_surf_fun(surf_temp)\n",
        "    ems_atms = ems_atms_fun(surf_temp, kh2o, co2)\n",
        "    lsh_flux = lsh_flux_fun(surf_temp, atms_temp)\n",
        "    beta_surf = beta_surf_func(mld)\n",
        "    \n",
        "    p_surfin = solar*(1 - ref_atms - abs_atms - ref_surf) + sig*1.25*ems_atms*atms_temp**4\n",
        "    p_surfout = sig*surf_temp**4 + lsh_flux\n",
        "    p_atmsin = abs_atms*solar + sig*ems_atms*surf_temp**4 + lsh_flux\n",
        "    p_atmsout = sig*2*ems_atms*atms_temp**4\n",
        "    \n",
        "    dtemp_surf_dt = beta_surf*(p_surfin - p_surfout)\n",
        "    dtemp_atms_dt = beta_atms*(p_atmsin - p_atmsout)\n",
        "\n",
        "    temp_vals = np.array([dtemp_surf_dt, dtemp_atms_dt])\n",
        "    #print(beta_surf, beta_atms, ref_surf, ref_atms, abs_atms, ems_atms, lsh_flux, p_surfin, p_surfout, p_atmsin, p_atmsout)\n",
        "    return temp_vals\n",
        "\n",
        "\n",
        "param=[340, .226, .210, 320., 50, 1]\n",
        "temps = [288.21, 267.81]\n",
        "model = rk4_geb(geb_climate_impulse, param, temps, 100, .01)\n",
        "import matplotlib.pyplot as plt\n",
        "#print(model)\n",
        "fig,ax = plt.subplots(figsize=(12,8))\n",
        "ax.plot(model[:,0],model[:,1]-273.15,'r-',label='Surface')\n",
        "ax.plot(model[:,0],model[:,2]-273.15,'b-',label='Atmosphere',)\n",
        "ax.set_title('Atmosphere and Surface Temperatures')\n",
        "ax.set_ylabel('Temp (C)')\n",
        "ax.set_xlabel('Time')\n",
        "ax.legend()"
      ],
      "execution_count": 0,
      "outputs": [
        {
          "output_type": "execute_result",
          "data": {
            "text/plain": [
              "<matplotlib.legend.Legend at 0x7f0e80d8e828>"
            ]
          },
          "metadata": {
            "tags": []
          },
          "execution_count": 6
        },
        {
          "output_type": "display_data",
          "data": {
            "image/png": "[encoded data removed]",
            "text/plain": [
              "<Figure size 864x576 with 1 Axes>"
            ]
          },
          "metadata": {
            "tags": []
          }
        }
      ]
    },
    {
      "cell_type": "markdown",
      "metadata": {
        "id": "oIYKqtBOUIFA",
        "colab_type": "text"
      },
      "source": [
        "<h4>Question 5.2: Altering the Cloud Cover</h4>\n",
        "\n",
        "<p>In this experiment, we ask what will happen if we change the percentage of the surface covered by clouds. We can easily explore this question by first increasing and then decreasing the percent cloud cover converter up to 65% and then down to 55%. Before actually running the model, it is useful to make a prediction about what will happen.</p>\n",
        "\n",
        "<p>Moving beyond this simple experiment, we next modify the way that cloud cover is defined, making it dependent on the global temperature. The reasoning here is that when the Earth is very cold, there will be less evaporation, therefore less water vapor to form clouds in the atmosphere, and conversely, when it is warmer, there will be a greater percentage of the Earth covered by clouds. In reality, as the water content of the atmosphere changes, we would have to change the part of the system that relates to the greenhouse efficiency and the latent heat transport (through evaporation and condensation of water) if we wanted a model that is as realistic as possible. But, we will ignore these refinements in order to maintain the simplicity of the model.</p>\n",
        "\n",
        "<p>To make the change, we will need to make cloud cover dependent on surface temperature. There really aren't any data we can turn to draw this graph properly, that is, in a way that mimics what really happens on Earth; the main reason is that we have not observed the global cloud cover over this whole range of temperatures. But, it is generally believed that at lower temperatures, the cloud cover will decrease and at higher temperatures, it will increase (Dickinson et al., 1996). This suggests that the slope of the line ought to be positive, moving up to the right. For the sake of simplicity, let's say that over this range of temperatures, the cloud cover will vary according to the table below. Further, which terms do you think should change based on cloud cover. Consider the amount of radiation reflected back to space. Where is this term in your model?</p>\n",
        "\n",
        "\n",
        "Table 3. Cloud Cover as a Function of Temperature\n",
        "<table>\n",
        "<tr>\n",
        "<th>Input</th><th>Output</th>\n",
        "</tr>\n",
        "<tr>\n",
        "<td>258</td><td>0.015</td>\n",
        "</tr>\n",
        "<tr>\n",
        "<td>268</td><td>0.110</td>\n",
        "</tr>\n",
        "<tr>\n",
        "<td>278</td><td>0.360</td>\n",
        "</tr>\n",
        "<tr>\n",
        "<td>288</td><td>0.600</td>\n",
        "</tr>\n",
        "<tr>\n",
        "<td>298</td><td>0.840</td>\n",
        "</tr>\n",
        "<tr>\n",
        "<td>308</td><td>0.920</td>\n",
        "</tr>\n",
        "<tr>\n",
        "<td>318</td><td>0.950</td>\n",
        "</tr>\n",
        "</table>\n",
        "\n",
        "<p>This should remind you of the migration rates from our previous example of migrating fish in our lake michigan model.  Here the values per temperature range are provided in the table above.</p>\n",
        "\n",
        "<p>Now the question is: How do we evaluate the effect of this change? If we just run this model without making any additional changes, what will happen? Since we've defined the graph such that the initial cloud cover will be 0.60, and cloud cover can change only if the temperature of the surface reservoir changes, the system should be in a steady state, identical to the initial model. This might lead to the false conclusion that this change had no effect on the system. A more meaningful control in this case is the experiment where we changed the Solar Input to 103%, effectively turning up the heat. But before running this modified model, make a prediction about what will happen.</p>\n",
        "<h4>Question 5.3: This new change represents a kind of feedback mechanism.</h4>\n",
        "<p>Is it positive or negative? Explain why this model behaves as it does. How does this model differ in terms of performance with the original (the \"control\" model)?</p>\n",
        "\n",
        "YOUR ANSWER: Negative feedback because as cloud cover increases with temperature it actually reflects more solar energy, therefore lowering the temperature and undoing the raised temperature.  Though I suspect the impact of cloud cover isn't quite as strong in reality as my current model seems to suggest."
      ]
    },
    {
      "cell_type": "code",
      "metadata": {
        "id": "7X7RAwuF9MPS",
        "colab_type": "code",
        "outputId": "95f80b81-8b61-4f09-971a-7f0f73a19456",
        "colab": {
          "base_uri": "https://localhost:8080/",
          "height": 34
        }
      },
      "source": [
        "# this = np.zeros([7,2])\n",
        "# this[4,1] = 5\n",
        "# print(this)\n",
        "\n",
        "def cloud_cover_func(temp):\n",
        "  import numpy as np\n",
        "  ini = np.zeros([7,2])\n",
        "  for i in range(7):\n",
        "    ini[i,0] = 258 + 10*i\n",
        "  ini[0,1] = 0.015\n",
        "  ini[1,1] = .110\n",
        "  ini[2,1] = .360\n",
        "  ini[3,1] = .600\n",
        "  ini[4,1] = .840\n",
        "  ini[5,1] = .920\n",
        "  ini[6,1] = .950\n",
        "  val = np.interp(temp, ini[:,0], ini[:,1])\n",
        "  return val\n",
        "\n",
        "clud = cloud_cover_func(310)\n",
        "print(clud)"
      ],
      "execution_count": 0,
      "outputs": [
        {
          "output_type": "stream",
          "text": [
            "0.926\n"
          ],
          "name": "stdout"
        }
      ]
    },
    {
      "cell_type": "code",
      "metadata": {
        "id": "ErwY1ymnUIFB",
        "colab_type": "code",
        "outputId": "194cdac5-b6de-4deb-e701-eb61472e04df",
        "colab": {
          "base_uri": "https://localhost:8080/",
          "height": 530
        }
      },
      "source": [
        "# Using cloud feedback!\n",
        "param=[340, .376666, .210, 320., 50, 1]\n",
        "temps = [288.21, 267.81]\n",
        "import numpy as np\n",
        "\n",
        "def ref_surf_fun(tsurf): #this function gives the fraction of radiation reflected by the surface, dependent on surface temp/melting ice\n",
        "    return 0.0825 + 0.38*np.exp(-0.006*(tsurf-260)**2)\n",
        "\n",
        "def ems_atms_fun(tsurf, kh2o, co2): #this function is the emission of radiation by the atmosphere, dependent on kh2o/water in the atmosphere, the surface temp, and co2 mixing rate\n",
        "    h2o = kh2o*(0.6 + 0.6*np.exp(5420*(tsurf-288.03)/(tsurf*288.03)))\n",
        "    return 0.76 + 0.03*((co2/320.))**(3/2) + 0.10*h2o\n",
        "    \n",
        "def lsh_flux_fun(tsurf, tatms): #represents loss due to latent/sensible heating flux\n",
        "    return 104*((tsurf-tatms)/20.55)**0.5\n",
        "\n",
        "def beta_surf_func(mld):\n",
        "    return 31536000/(1000.*4148*mld)\n",
        "\n",
        "# def cloud_cover_func(temp):\n",
        "#   import numpy as np\n",
        "#   ini = np.zeros([7,2])\n",
        "#   for i in range(7):\n",
        "#     ini[i,0] = 258 + 10*i\n",
        "#   ini[0,1] = 0.015\n",
        "#   ini[1,1] = .110\n",
        "#   ini[2,1] = .360\n",
        "#   ini[3,1] = .600\n",
        "#   ini[4,1] = .840\n",
        "#   ini[5,1] = .920\n",
        "#   ini[6,1] = .950\n",
        "#   val = np.interp(temp, ini[:,0], ini[:,1])\n",
        "#   return val\n",
        "\n",
        "def geb_climate_cloud(param, t, temps):\n",
        "    import numpy as np\n",
        "    import matplotlib.pyplot as plt\n",
        "\n",
        "    solar = param[0]     \n",
        "    ref_atms = param[1]#*cloud_cover_func(temps[0])\n",
        "    abs_atms = param[2]  \n",
        "    co2 = param[3]       \n",
        "    mld = param[4]       \n",
        "    beta_atms = 31536000/(10000.*700) \n",
        "    sig = 5.67e-8      \n",
        "    kh2o = param[5]      \n",
        "    \n",
        "    surf_temp = temps[0] #These are the intial temperatures, approximately [surface = 288.11, atmos = 268.17], in Kelvin.\n",
        "    atms_temp = temps[1] #about 268.11 kelvin\n",
        "    \n",
        "    # Call in external functions\n",
        "    ref_surf = ref_surf_fun(surf_temp)\n",
        "    ems_atms = ems_atms_fun(surf_temp, kh2o, co2)\n",
        "    lsh_flux = lsh_flux_fun(surf_temp, atms_temp)\n",
        "    beta_surf = beta_surf_func(mld)\n",
        "    # cloud_cover = cloud_cover_func(surf_temp)\n",
        "\n",
        "    # #Cloud Spike\n",
        "    # if t >= 3 and t <= 10:\n",
        "    #   ref_atms = param[1]*cloud_cover_func(temps[0]+10)\n",
        "    # else:\n",
        "    #   ref_atms = param[1]*cloud_cover_func(temps[0])\n",
        "\n",
        "    # #Temp Spike\n",
        "    # if t >= 3 and t <= 10:\n",
        "    #   surf_temp = temps[0]+3\n",
        "    # else:\n",
        "    #   surf_temp = temps[0]\n",
        "    \n",
        "    p_surfin = solar*(1 - ref_atms - abs_atms - ref_surf) + sig*1.25*ems_atms*atms_temp**4\n",
        "    p_surfout = sig*surf_temp**4 + lsh_flux\n",
        "    p_atmsin = abs_atms*solar + lsh_flux + sig*ems_atms*surf_temp**4\n",
        "    p_atmsout = sig*2*ems_atms*atms_temp**4\n",
        "    \n",
        "    dtemp_surf_dt = beta_surf*(p_surfin - p_surfout)\n",
        "    dtemp_atms_dt = beta_atms*(p_atmsin - p_atmsout)\n",
        "\n",
        "    temp_vals = np.array([dtemp_surf_dt, dtemp_atms_dt])\n",
        "    #print(beta_surf, beta_atms, ref_surf, ref_atms, abs_atms, ems_atms, lsh_flux, p_surfin, p_surfout, p_atmsin, p_atmsout)\n",
        "    return temp_vals\n",
        "\n",
        "model = rk4_geb(geb_climate_cloud, param, temps, 100, .01)\n",
        "import matplotlib.pyplot as plt\n",
        "#print(model)\n",
        "fig,ax = plt.subplots(figsize=(12,8))\n",
        "ax.plot(model[:,0],model[:,1]-273.15,'r-',label='Surface')\n",
        "ax.plot(model[:,0],model[:,2]-273.15,'b-',label='Atmosphere',)\n",
        "ax.set_title('Atmosphere and Surface Temperatures')\n",
        "ax.set_ylabel('Temperature (C)')\n",
        "ax.set_xlabel('Time')\n",
        "ax.legend()"
      ],
      "execution_count": 0,
      "outputs": [
        {
          "output_type": "execute_result",
          "data": {
            "text/plain": [
              "<matplotlib.legend.Legend at 0x7f0e80da0d30>"
            ]
          },
          "metadata": {
            "tags": []
          },
          "execution_count": 5
        },
        {
          "output_type": "display_data",
          "data": {
            "image/png": "[encoded data removed]",
            "text/plain": [
              "<Figure size 864x576 with 1 Axes>"
            ]
          },
          "metadata": {
            "tags": []
          }
        }
      ]
    },
    {
      "cell_type": "code",
      "metadata": {
        "id": "lQSbyXDDkNH1",
        "colab_type": "code",
        "outputId": "b13419a7-2f0a-425f-a6f8-c8226cdfa6f1",
        "colab": {
          "base_uri": "https://localhost:8080/",
          "height": 530
        }
      },
      "source": [
        "# Using cloud feedback AND SOLAR PULSE\n",
        "param=[340, .37666, .210, 320., 50, 1]\n",
        "temps = [288.21, 267.81]\n",
        "import numpy as np\n",
        "\n",
        "def ref_surf_fun(tsurf): #this function gives the fraction of radiation reflected by the surface, dependent on surface temp/melting ice\n",
        "    return 0.0825 + 0.38*np.exp(-0.006*(tsurf-260)**2)\n",
        "\n",
        "def ems_atms_fun(tsurf, kh2o, co2): #this function is the emission of radiation by the atmosphere, dependent on kh2o/water in the atmosphere, the surface temp, and co2 mixing rate\n",
        "    h2o = kh2o*(0.6 + 0.6*np.exp(5420*(tsurf-288.03)/(tsurf*288.03)))\n",
        "    return 0.76 + 0.03*((co2/320.))**(3/2) + 0.10*h2o\n",
        "    \n",
        "def lsh_flux_fun(tsurf, tatms): #represents loss due to latent/sensible heating flux\n",
        "    return 104*((tsurf-tatms)/20.55)**0.5\n",
        "\n",
        "def beta_surf_func(mld):\n",
        "    return 31536000/(1000.*4148*mld)\n",
        "\n",
        "def cloud_cover_func(temp):\n",
        "  import numpy as np\n",
        "  ini = np.zeros([7,2])\n",
        "  for i in range(7):\n",
        "    ini[i,0] = 258 + 10*i\n",
        "  ini[0,1] = 0.015\n",
        "  ini[1,1] = .110\n",
        "  ini[2,1] = .360\n",
        "  ini[3,1] = .600\n",
        "  ini[4,1] = .840\n",
        "  ini[5,1] = .920\n",
        "  ini[6,1] = .950\n",
        "  val = np.interp(temp, ini[:,0], ini[:,1])\n",
        "  return val\n",
        "\n",
        "def geb_climate_cloud(param, t, temps):\n",
        "    import numpy as np\n",
        "    import matplotlib.pyplot as plt\n",
        "\n",
        "    solar = param[0]     \n",
        "    ref_atms = param[1]*cloud_cover_func(temps[0])\n",
        "    abs_atms = param[2]  \n",
        "    co2 = param[3]       \n",
        "    mld = param[4]       \n",
        "    beta_atms = 31536000/(10000.*700) \n",
        "    sig = 5.67e-8      \n",
        "    kh2o = param[5]      \n",
        "    \n",
        "    surf_temp = temps[0] #These are the intial temperatures, approximately [surface = 288.11, atmos = 268.17], in Kelvin.\n",
        "    atms_temp = temps[1] #about 268.11 kelvin\n",
        "    \n",
        "    # Call in external functions\n",
        "    ref_surf = ref_surf_fun(surf_temp)\n",
        "    ems_atms = ems_atms_fun(surf_temp, kh2o, co2)\n",
        "    lsh_flux = lsh_flux_fun(surf_temp, atms_temp)\n",
        "    beta_surf = beta_surf_func(mld)\n",
        "    cloud_cover = cloud_cover_func(surf_temp)\n",
        "\n",
        "    if t >= 3 and t <= 17:\n",
        "      solar = param[0]*1.05\n",
        "    else:\n",
        "      solar = param[0]\n",
        "    \n",
        "    p_surfin = solar*(1 - ref_atms - abs_atms - ref_surf) + sig*1.25*ems_atms*atms_temp**4\n",
        "    p_surfout = sig*surf_temp**4 + lsh_flux\n",
        "    p_atmsin = abs_atms*solar + lsh_flux + sig*ems_atms*surf_temp**4\n",
        "    p_atmsout = sig*2*ems_atms*atms_temp**4\n",
        "    \n",
        "    dtemp_surf_dt = beta_surf*(p_surfin - p_surfout)\n",
        "    dtemp_atms_dt = beta_atms*(p_atmsin - p_atmsout)\n",
        "\n",
        "    temp_vals = np.array([dtemp_surf_dt, dtemp_atms_dt])\n",
        "    #print(beta_surf, beta_atms, ref_surf, ref_atms, abs_atms, ems_atms, lsh_flux, p_surfin, p_surfout, p_atmsin, p_atmsout)\n",
        "    return temp_vals\n",
        "\n",
        "model = rk4_geb(geb_climate_cloud, param, temps, 100, .01)\n",
        "import matplotlib.pyplot as plt\n",
        "#print(model)\n",
        "fig,ax = plt.subplots(figsize=(12,8))\n",
        "ax.plot(model[:,0],model[:,1]-273.15,'r-',label='Surface')\n",
        "ax.plot(model[:,0],model[:,2]-273.15,'b-',label='Atmosphere',)\n",
        "ax.set_title('Atmosphere and Surface Temperatures')\n",
        "ax.set_ylabel('Temperature (C)')\n",
        "ax.set_xlabel('Time')\n",
        "ax.legend()"
      ],
      "execution_count": 0,
      "outputs": [
        {
          "output_type": "execute_result",
          "data": {
            "text/plain": [
              "<matplotlib.legend.Legend at 0x7f316bf59128>"
            ]
          },
          "metadata": {
            "tags": []
          },
          "execution_count": 74
        },
        {
          "output_type": "display_data",
          "data": {
            "image/png": "[encoded data removed]",
            "text/plain": [
              "<Figure size 864x576 with 1 Axes>"
            ]
          },
          "metadata": {
            "tags": []
          }
        }
      ]
    },
    {
      "cell_type": "markdown",
      "metadata": {
        "id": "g-wFxftOUIFD",
        "colab_type": "text"
      },
      "source": [
        "<h4>Question 5.4: Removing Greenhouse Gases</h4>\n",
        "<p>Now comes the experiment we've all been anticipating! We will now investigate the behavior of our model upon removal of the greenhouse gases. As shown in Fig. 2, the greenhouse effect is represented by the absorption of infrared energy by the atmosphere and then the return infrared back to the land surface simply as a result of the atmospheric radiation; the atmosphere will radiate heat back to the surface regardless of how or from where that heat energy came from. So, in looking for the right way to dismantle the greenhouse, we ought to leave the atmospheric longwave to surface flow alone. The simplest way to remove the greenhouse effect is to remove the energy emitted by the land that is absorbed by the atmosphere in our original model. But, the energy can't just disappear; this energy has to go someplace else, and by increasing the surface longwave loss to space, we can conserve the energy in our system.</p>\n",
        "\n",
        "<p>Here, the original model serves as an appropriate control if we simply want to understand what happens when we turn off the greenhouse. As always, it is useful to make a prediction before running the model. Based on the results, how much of a warming effect does our greenhouse have?</p>\n"
      ]
    },
    {
      "cell_type": "code",
      "metadata": {
        "id": "eXAFjntRUIFE",
        "colab_type": "code",
        "outputId": "123048fd-2fef-45ee-e618-42f2f8c2bd45",
        "colab": {
          "base_uri": "https://localhost:8080/",
          "height": 530
        }
      },
      "source": [
        "# Removing the Greenhouse Gas Effect\n",
        "param=[340, .226, .210, 320., 50, 1]\n",
        "temps = [288.21, 267.81]\n",
        "import numpy as np\n",
        "\n",
        "def ref_surf_fun(tsurf): #this function gives the fraction of radiation reflected by the surface, dependent on surface temp/melting ice\n",
        "    return 0.0825 + 0.38*np.exp(-0.006*(tsurf-260)**2)\n",
        "\n",
        "def ems_atms_fun(tsurf, kh2o, co2): #this function is the emission of radiation by the atmosphere, dependent on kh2o/water in the atmosphere, the surface temp, and co2 mixing rate\n",
        "    h2o = kh2o*(0.6 + 0.6*np.exp(5420*(tsurf-288.03)/(tsurf*288.03)))\n",
        "    return 0.76 + 0.03*((co2/320.))**(3/2) + 0.10*h2o\n",
        "    \n",
        "def lsh_flux_fun(tsurf, tatms): #represents loss due to latent/sensible heating flux\n",
        "    return 104*((tsurf-tatms)/20.55)**0.5\n",
        "\n",
        "def beta_surf_func(mld):\n",
        "    return 31536000/(1000.*4148*mld)\n",
        "\n",
        "def geb_climate_noghg(param, t, temps):\n",
        "    import numpy as np\n",
        "    import matplotlib.pyplot as plt\n",
        "\n",
        "    solar = param[0]     \n",
        "    ref_atms = param[1]  \n",
        "    abs_atms = param[2]  \n",
        "    co2 = param[3]       \n",
        "    mld = param[4]       \n",
        "    beta_atms = 31536000/(10000.*700) \n",
        "    sig = 5.67e-8      \n",
        "    kh2o = param[5]      \n",
        "    \n",
        "    surf_temp = temps[0] #These are the intial temperatures, approximately [surface = 288.11, atmos = 268.17], in Kelvin.\n",
        "    atms_temp = temps[1] #about 268.11 kelvin\n",
        "    \n",
        "    # Call in external functions\n",
        "    ref_surf = ref_surf_fun(surf_temp)\n",
        "    ems_atms = ems_atms_fun(surf_temp, kh2o, co2)\n",
        "    lsh_flux = lsh_flux_fun(surf_temp, atms_temp)\n",
        "    beta_surf = beta_surf_func(mld)\n",
        "    \n",
        "    p_surfin = solar*(1 - ref_atms - abs_atms - ref_surf) #+ sig*1.25*ems_atms*atms_temp**4 #removed emission by the atmosphere gases\n",
        "    p_surfout = sig*surf_temp**4 + lsh_flux\n",
        "    p_atmsin = abs_atms*solar + lsh_flux + sig*ems_atms*surf_temp**4\n",
        "    p_atmsout = sig*2*ems_atms*atms_temp**4 + sig*1.25*ems_atms*atms_temp**4 #added the second + sig...**4\n",
        "    \n",
        "    dtemp_surf_dt = beta_surf*(p_surfin - p_surfout)\n",
        "    dtemp_atms_dt = beta_atms*(p_atmsin - p_atmsout)\n",
        "\n",
        "    temp_vals = np.array([dtemp_surf_dt, dtemp_atms_dt])\n",
        "    #print(beta_surf, beta_atms, ref_surf, ref_atms, abs_atms, ems_atms, lsh_flux, p_surfin, p_surfout, p_atmsin, p_atmsout)\n",
        "    return temp_vals\n",
        "\n",
        "model = rk4_geb(geb_climate_noghg, param, temps, 100, .01)\n",
        "import matplotlib.pyplot as plt\n",
        "#print(model)\n",
        "fig,ax = plt.subplots(figsize=(12,8))\n",
        "ax.plot(model[:,0],model[:,1]-273.15,'r-',label='Surface')\n",
        "ax.plot(model[:,0],model[:,2]-273.15,'b-',label='Atmosphere',)\n",
        "ax.set_title('Atmosphere and Surface Temperatures')\n",
        "ax.set_ylabel('Temperature (C)')\n",
        "ax.set_xlabel('Time')\n",
        "ax.legend()\n"
      ],
      "execution_count": 0,
      "outputs": [
        {
          "output_type": "execute_result",
          "data": {
            "text/plain": [
              "<matplotlib.legend.Legend at 0x7f316bd57978>"
            ]
          },
          "metadata": {
            "tags": []
          },
          "execution_count": 80
        },
        {
          "output_type": "display_data",
          "data": {
            "image/png": "[encoded data removed]",
            "text/plain": [
              "<Figure size 864x576 with 1 Axes>"
            ]
          },
          "metadata": {
            "tags": []
          }
        }
      ]
    },
    {
      "cell_type": "markdown",
      "metadata": {
        "id": "hWzybXNCUIFH",
        "colab_type": "text"
      },
      "source": [
        "<h4>Question 5.5: Enhancing the Greenhouse Effect</h4>\n",
        "<p>We next explore the effect of enhancing the greenhouse effect, simulating what may happen in the near future as we continue to burn more fossils fuels and clear more forests, thus increasing the concentration of carbon dioxide in the atmosphere. Our goal here is to model the effects of doubling atmospheric CO$_2$ . Water vapor and clouds account for 66 to 85% of the greenhouse effect, compared to a range of 9 to 26% for CO$^2$. The relationship between the concentration of CO$_2$ in the atmosphere and the absorption of heat is not linear. At higher concentrations, increases in CO$_2$ produce less and less of an effect. Calculations (Shine, et al., 1995) have shown that a doubling of CO$_2$ is expected to increase the energy trapped by 4 $Wm^{-2}$, which is a bit more than 1% of the Solar Input (343 $Wm^{-2}$). How much warming does this produce in your model? For reference, keep in mind that over the last 140 years, the global temperature appears to have increased by about $ 1.0^{\\circ} {\\rm C}$ while the concentration of atmospheric CO$_2$ increased by about 46% (going from about 280 ppm to 410 ppm). The CMIP5 intercomparison project again includes such a stylized pathway, in which the CO$^2$ concentration\n",
        "reaches twice the initial concentration after 70 years and four times the initial concentration after 140 years. The corresponding RFs are 3.7 $W\\ m^{–2}$ (Ramaswamy et al., 2001) and 7.4 $W\\ m^{–2}$ respectively with\n",
        "a range of ±20% accounting for uncertainties in radiative transfer calculations and rapid adjustments."
      ]
    },
    {
      "cell_type": "code",
      "metadata": {
        "id": "KrmgqL3hUIFI",
        "colab_type": "code",
        "outputId": "0fb63cd9-a0be-423f-8fb6-a97890cdc2c6",
        "colab": {
          "base_uri": "https://localhost:8080/",
          "height": 530
        }
      },
      "source": [
        "# Doubling CO2 with a GEB equilibrated to 320 ppm\n",
        "\n",
        "def geb_climate_impulse(param, t, temps):\n",
        "    import numpy as np\n",
        "    import matplotlib.pyplot as plt\n",
        "\n",
        "    solar = param[0]     #solar insolation, generally 340.2 w/m^2\n",
        "    ref_atms = param[1]  #generally 0.226, this is the fraction insolation reflected by the atmosphere (but not the clouds)\n",
        "    abs_atms = param[2]  #generally .220, absorption coefficient for atmosphere, how much is getting absorbed (water and co2)\n",
        "    co2 = param[3]       #mixing rate of c02, about 320 ppm in 1965.\n",
        "    mld = param[4]       #the mixed layer depth, generally around 50 meters\n",
        "    # #beta_surf = param[5] #DEPENDENT ON MIXED LAYER DEPTH, a value equal to 31536000/(density of water*heat capacity water*mixed layer depth), conversion factors from energy to temperature\n",
        "    beta_atms = 31536000/(10000.*700) #a constant value equal to 31536000/(10000*heat capacity air(700))\n",
        "    sig = 5.67e-8       #Boltzmann constant, 5.67e-8\n",
        "    kh2o = param[5]      #I think this is the mixing rate of water vapor in air?  Or something?  For the beginning, assume it's 1.\n",
        "    \n",
        "    surf_temp = temps[0] #These are the intial temperatures, approximately [surface = 288.11, atmos = 268.17], in Kelvin.\n",
        "    atms_temp = temps[1] #about 268.11 kelvin\n",
        "\n",
        "    # Call in external functions\n",
        "    ref_surf = ref_surf_fun(surf_temp)\n",
        "    ems_atms = ems_atms_fun(surf_temp, kh2o, co2)\n",
        "    lsh_flux = lsh_flux_fun(surf_temp, atms_temp)\n",
        "    beta_surf = beta_surf_func(mld)\n",
        "    \n",
        "    p_surfin = solar*(1 - ref_atms - abs_atms - ref_surf) + sig*1.25*ems_atms*atms_temp**4\n",
        "    p_surfout = sig*surf_temp**4 + lsh_flux\n",
        "    p_atmsin = abs_atms*solar + sig*ems_atms*surf_temp**4 + lsh_flux\n",
        "    p_atmsout = sig*2*ems_atms*atms_temp**4\n",
        "    \n",
        "    dtemp_surf_dt = beta_surf*(p_surfin - p_surfout)\n",
        "    dtemp_atms_dt = beta_atms*(p_atmsin - p_atmsout)\n",
        "\n",
        "    temp_vals = np.array([dtemp_surf_dt, dtemp_atms_dt])\n",
        "    #print(beta_surf, beta_atms, ref_surf, ref_atms, abs_atms, ems_atms, lsh_flux, p_surfin, p_surfout, p_atmsin, p_atmsout)\n",
        "    return temp_vals\n",
        "\n",
        "\n",
        "param=[340, .226, .210, 420., 50, 1]\n",
        "temps = [288.21, 267.81]\n",
        "model = rk4_geb(geb_climate_impulse, param, temps, 100, .01)\n",
        "import matplotlib.pyplot as plt\n",
        "#print(model)\n",
        "fig,ax = plt.subplots(figsize=(12,8))\n",
        "ax.plot(model[:,0],model[:,1]-273.15,'r-',label='Surface')\n",
        "ax.plot(model[:,0],model[:,2]-273.15,'b-',label='Atmosphere',)\n",
        "ax.set_title('Atmosphere and Surface Temperatures')\n",
        "ax.set_ylabel('Temp (C)')\n",
        "ax.set_xlabel('Time')\n",
        "ax.legend()"
      ],
      "execution_count": 0,
      "outputs": [
        {
          "output_type": "execute_result",
          "data": {
            "text/plain": [
              "<matplotlib.legend.Legend at 0x7f316b9ddda0>"
            ]
          },
          "metadata": {
            "tags": []
          },
          "execution_count": 86
        },
        {
          "output_type": "display_data",
          "data": {
            "image/png": "[encoded data removed]",
            "text/plain": [
              "<Figure size 864x576 with 1 Axes>"
            ]
          },
          "metadata": {
            "tags": []
          }
        }
      ]
    },
    {
      "cell_type": "code",
      "metadata": {
        "id": "f-PXQaiVUIFK",
        "colab_type": "code",
        "outputId": "9410ce07-9df7-4b2d-bab1-344aa6fb4821",
        "colab": {
          "base_uri": "https://localhost:8080/",
          "height": 564
        }
      },
      "source": [
        "# Using a CO2 ramp, and a GEB equilibrated to 280 ppm\n",
        "\n",
        "def ems_atms_fun(tsurf, kh2o, co2): #this function is the emission of radiation by the atmosphere, dependent on kh2o/water in the atmosphere, the surface temp, and co2 mixing rate\n",
        "    h2o = kh2o*(0.6 + 0.6*np.exp(5420*(tsurf-288.03)/(tsurf*288.03)))\n",
        "    return 0.76 + 0.03*((co2/280.))**(3/2) + 0.10*h2o\n",
        "\n",
        "def geb_climate_impulse(param, t, temps):\n",
        "    import numpy as np\n",
        "    import matplotlib.pyplot as plt\n",
        "\n",
        "    solar = param[0]     #solar insolation, generally 340.2 w/m^2\n",
        "    ref_atms = param[1]  #generally 0.226, this is the fraction insolation reflected by the atmosphere (but not the clouds)\n",
        "    abs_atms = param[2]  #generally .220, absorption coefficient for atmosphere, how much is getting absorbed (water and co2)\n",
        "    co2 = param[3]       #mixing rate of c02, about 320 ppm in 1965.\n",
        "    mld = param[4]       #the mixed layer depth, generally around 50 meters\n",
        "    # #beta_surf = param[5] #DEPENDENT ON MIXED LAYER DEPTH, a value equal to 31536000/(density of water*heat capacity water*mixed layer depth), conversion factors from energy to temperature\n",
        "    beta_atms = 31536000/(10000.*700) #a constant value equal to 31536000/(10000*heat capacity air(700))\n",
        "    sig = 5.67e-8       #Boltzmann constant, 5.67e-8\n",
        "    kh2o = param[5]      #I think this is the mixing rate of water vapor in air?  Or something?  For the beginning, assume it's 1.\n",
        "    \n",
        "    surf_temp = temps[0] #These are the intial temperatures, approximately [surface = 288.11, atmos = 268.17], in Kelvin.\n",
        "    atms_temp = temps[1] #about 268.11 kelvin\n",
        "\n",
        "    # Call in external functions\n",
        "    ref_surf = ref_surf_fun(surf_temp)\n",
        "    ems_atms = ems_atms_fun(surf_temp, kh2o, co2)\n",
        "    lsh_flux = lsh_flux_fun(surf_temp, atms_temp)\n",
        "    beta_surf = beta_surf_func(mld)\n",
        "    \n",
        "    p_surfin = solar*(1 - ref_atms - abs_atms - ref_surf) + sig*1.25*ems_atms*atms_temp**4\n",
        "    p_surfout = sig*surf_temp**4 + lsh_flux\n",
        "    p_atmsin = abs_atms*solar + sig*ems_atms*surf_temp**4 + lsh_flux\n",
        "    p_atmsout = sig*2*ems_atms*atms_temp**4\n",
        "    \n",
        "    dtemp_surf_dt = beta_surf*(p_surfin - p_surfout)\n",
        "    dtemp_atms_dt = beta_atms*(p_atmsin - p_atmsout)\n",
        "\n",
        "    temp_vals = np.array([dtemp_surf_dt, dtemp_atms_dt])\n",
        "    #print(beta_surf, beta_atms, ref_surf, ref_atms, abs_atms, ems_atms, lsh_flux, p_surfin, p_surfout, p_atmsin, p_atmsout)\n",
        "    return temp_vals\n",
        "\n",
        "\n",
        "param=[340, .226, .210, 400., 50, 2]\n",
        "temps = [288.21, 267.81]\n",
        "model = rk4_geb(geb_climate_impulse, param, temps, 100, .01)\n",
        "import matplotlib.pyplot as plt\n",
        "#print(model)\n",
        "fig,ax = plt.subplots(figsize=(12,8))\n",
        "ax.plot(model[:,0],model[:,1]-273.15,'r-',label='Surface')\n",
        "ax.plot(model[:,0],model[:,2]-273.15,'b-',label='Atmosphere',)\n",
        "ax.set_title('Atmosphere and Surface Temperatures')\n",
        "ax.set_ylabel('Temp (C)')\n",
        "ax.set_xlabel('Time')\n",
        "ax.legend()"
      ],
      "execution_count": 0,
      "outputs": [
        {
          "output_type": "stream",
          "text": [
            "/usr/local/lib/python3.6/dist-packages/ipykernel_launcher.py:11: RuntimeWarning: invalid value encountered in double_scalars\n",
            "  # This is added back by InteractiveShellApp.init_path()\n"
          ],
          "name": "stderr"
        },
        {
          "output_type": "execute_result",
          "data": {
            "text/plain": [
              "<matplotlib.legend.Legend at 0x7f093d6b1748>"
            ]
          },
          "metadata": {
            "tags": []
          },
          "execution_count": 8
        },
        {
          "output_type": "display_data",
          "data": {
            "image/png": "[encoded data removed]",
            "text/plain": [
              "<Figure size 864x576 with 1 Axes>"
            ]
          },
          "metadata": {
            "tags": []
          }
        }
      ]
    },
    {
      "cell_type": "markdown",
      "metadata": {
        "id": "0Wad7KnaUIFN",
        "colab_type": "text"
      },
      "source": [
        "<h4>Question 5.6: Comparing Different Causes of Warming</h4>\n",
        "\n",
        "<p>Here, we consider the question of whether we can distinguish between warming caused by an increase in the Solar Input vs. warming caused by an enhanced greenhouse. This is related to the question of whether or not we can rule out the possibility that the current warming observed for our planet is caused by a slight increase in the solar input. It turns out that with a Solar Input value of 102, you get virtually the same amount of warming of the land surface as you do with the enhanced greenhouse that results from a doubling of CO$_2$ . This experiment is easiest to analyze in the form of two separate models run at the same time. To do this, copy and paste the existing model off to the side of the initial model, then restore the greenhouse to the initial state in one of the models and increase its Solar Input to 101.25, leaving the other model with the enhanced greenhouse as described in question 5.5 above. Plot similar elements of the two models on the same graphs to look for variance in these models.</p>\n",
        "\n",
        "<p>After running these tandem models, can you distinguish between warming caused by an increase in the insolation vs. warming caused by an enhanced greenhouse? What kinds of data would you need to examine to be able to answer this question for the Earth?</p>\n",
        "\n",
        "<p>Global measures of the temperature of the atmosphere are not too precise and the record does not go back so far, so a direct test of this model result is not easy. However, with a warmer atmosphere, the nightime low temperatures of the surface should also be warmer. If this warming took place gradually, then the daytime highs of the surface would also be increasing, but less rapidly than the nightime lows. Another way of saying this is that the magnitude of the daily surface temperature variation should be decreasing even as the whole system is warming. In fact, Karl et al. (1993), and Mitchell et al. (1995) have noticed that the night-time temperatures seem to be increasing more rapidly than the daytime temperatures -- the diurnal temperature variations seem to be decreasing. Of course, we must always be cautious in projecting the results and implications of such a simple model, it is nevertheless important to realize that the actual measurements are consistent with the hypothesis that the present warming is caused primarily by an enhanced greenhouse rather than increased solar energy.</p>\n"
      ]
    },
    {
      "cell_type": "code",
      "metadata": {
        "id": "UrfIbfYoUIFO",
        "colab_type": "code",
        "colab": {}
      },
      "source": [
        "# Compare the CO2 model to the solar model.\n",
        "#It seems like a solar spike wouldn't cause the kind of warming that CO2 increases would cause.  ALso I didn't have enough time to do all of\n",
        "#these parts in class or out of class, and I wasn't quite sure how accurate all of my previous experiments were.  But I understand\n",
        "#the coding behind them all, just maybe not the math behind them all."
      ],
      "execution_count": 0,
      "outputs": []
    },
    {
      "cell_type": "markdown",
      "metadata": {
        "collapsed": true,
        "id": "4xGZGlKMUIFQ",
        "colab_type": "text"
      },
      "source": [
        "<h3>References Cited</h3>\n",
        "\n",
        "1. Dickinson, R.E., Meleshko, V., Randall, D., Sarachik, E., Silva-Dias, P., and Slingo, A., 1996, Climate Processes, in Houghton, J.T., Meira Filho, L.G., Callander, B.A., Harris, N., Kattenberg, A., and Maskell, K., (eds.) Climate Change 1995, Cambridge University Press, Cambridge, 572 p. \\\\\n",
        "\n",
        "2. Shine, K.P., Fouquart, Y., Ramaswamy, V., Solomon, S., and Srinivasan, J., 1995, Radiative Forcing, in Houghton, J.T., Meira Filho, L.G., Callander, B.A., Harris, N., Kattenberg, A., and Maskell, K., (eds.) Climate Change 1994, Cambridge University Press, Cambridge, 572 p. \\\\\n",
        "\n",
        "3. Kattenberg, A., Giorgi, F., Grassl, H., Meehl, G.A., Mitchell, J.F.B., Stouffer, R.J., Tokioka, T., Weaver, A.J., and Wigley, T.M.L, 1996, Climate Models -- Projections of Future Climate, in Houghton, J.T., Meira Filho, L.G., Callander, B.A., Harris, N., Kattenberg, A., and Maskell, K., (eds.) Climate Change 1995, Cambridge University Press, Cambridge, 572 p. \\\\\n",
        "\n",
        "4. Karl, T.R., Knight, R.W., Kukla, G., Plummer, N., Razuvayev, V., Gallo, K.P., Lindseay, J., Charlson, R.J., and Peterson, T.C., 1993, Asymmetric trends of daily maximum and minimum temperature: Bulletin of the American Meteorological Society, v. 74, P. 1007-1023.\\\\\n",
        " \n",
        "5. Mitchell, J.F.B., Davis, R.A., Ingram, W.J., and Senior, C.A., 1995, On surface temperature, greenhouse gases and aerosols: models and observations: Journal of Climate, v. 8, p. 2364-2386. \\\\\n",
        "\n",
        "6. Strahler, A.N., and Strahler, A.H., 1989, Physical Geography, 4th Ed., New York, John Wiley and Sons, 562 p.  \\\\\n",
        "\n",
        "7. Schneider, Coevolution of Climate and Life Henderson-Sellers, A. and McGuffie, K. A Climate Modelling Primer, Wiley, New York, 217p. \n",
        "Peixoto and Oort, Physics of Climate\n",
        "\n",
        "8. Arguez, Anthony, Russell S. Vose, 2011: The Definition of the Standard WMO Climate Normal: The Key to Deriving Alternative Climate Normals. \n",
        "Bull. Amer. Meteor. Soc., 92, 699â704. doi: http://dx.doi.org/10.1175/2010BAMS2955.1\n",
        "\n",
        "9. http://www.wmo.int/pages/themes/climate/understanding_climate.php\n",
        "10. IPCC AR5 https://www.ipcc.ch/site/assets/uploads/2018/02/WG1AR5_Chapter12_FINAL.pdf\n",
        "\n",
        "\n",
        "\n"
      ]
    },
    {
      "cell_type": "markdown",
      "metadata": {
        "id": "Ok6RXo-WUIFR",
        "colab_type": "text"
      },
      "source": [
        "<h3>Final Reflection</h3>\n",
        "<p>A very short week! This time around, in addition to the points below, consider how you would integrate the RK4 approach with your fish model. What would need to be rewritten? As, always, in your reflection, you should:</p>\n",
        "\n",
        "<ul><li>Reflect! Consider and then comment on what you have learned in this lab. Connect the ideas to your own interests and experiences of the world.</li>\n",
        "<li>Be sure to comment on what you found challenging and what you found intuitive.</li>\n",
        "<li>Add some constructive criticism.</li>\n",
        "</ul>"
      ]
    },
    {
      "cell_type": "markdown",
      "metadata": {
        "id": "L42QuuRoUIFS",
        "colab_type": "text"
      },
      "source": [
        "MY REFLECTION:\n",
        "\n",
        "Since this is the last lab, I suppose I should probably reflect on the entire class.  Overall, I've learned so much in this class, more than in pretty much any other class I've ever taken, in or out of college.  I figured out the coding and understood it better than I ever expected I would, which was pretty nice.  There's still a lot of things that I don't quite get and need more practice on, but hey, that's true of any subject or hobby.  I definitely do feel like being thrown into the deep end of this stuff was good for me, because it kind of forced me to adapt and learn at a quicker pace.  It was a bit stressful at times, not because it was difficult (though it was), but because I'm worried about my grade.  That's more of a me issue, though, because at some point I convinced myself that if I get anything less than an A I'll be considered a failure.  I realize that's a ridiculous way to think, but it's a hard notion to shake, partially because of my OCD and partially for other reasons.  But mostly the OCD.  THat's neither here nor there.  I really liked this class and learned so much and it ended up being my favorite class of the semester, even if I felt like I was drowning in it half of the time.  I'm taking GEOG 380 next semester, which is GIS with some python coding, so I'm glad that I got a pretty comprehensive introduction to the language in this class.  I think it'll help me be ahead of the curve for that class, at least.  My only fear is that I'll end up forgetting everything I learned in this class because I won't practice coding, just like how I've forgotten how to speak and listen to Spanish.  I can still read spanish, but I can't speak it anymore.  Also that's irrelevant to this reflection too, I guess.  But anyway, to improve this model, I'd need a better understanding of the math behind the models and how it all works.  And that much may be beyond the time I have left in this class.  ACtually, it definitely is, since the class is over now.  The coding for the model I understand, it's just the math that's stumping me now.  Though at least I learned what I came here to learn, which is how to do basic coding, plus some extra things I didn't expect to learn.  Like how many Coho Salmon are in lake michigan.  That's pretty cool."
      ]
    },
    {
      "cell_type": "code",
      "metadata": {
        "id": "OH7WoW8SUYSR",
        "colab_type": "code",
        "outputId": "ba2f7900-4154-41a1-ff71-eb3d5ae2e2d7",
        "colab": {
          "base_uri": "https://localhost:8080/",
          "height": 187
        }
      },
      "source": [
        "#TEST ITERATION\n",
        "\n",
        "temps = [8,10]\n",
        "param = [50, 0.2, 10000]\n",
        "\n",
        "def verhulst_rate(param, t, x): #this will become my_func which is in k1 and k2, works with the analytical solution,\n",
        "  r = param[1]\n",
        "  k = param[2]\n",
        "  return r*x*(1-x/k) #this tells us the rate of change in fish population at a given point\n",
        "\n",
        "#Runge Kutta Model: NEED TO EDIT TO HANDLE TWO VARIABLES\n",
        "def rk4_geeb(my_func, temps, sim_time, timestep): #my_func will be the GEB_model. x0 should be a list, [ta0, ts0], but could be any number of boxes\n",
        "  import numpy as np\n",
        "  import itertools\n",
        "\n",
        "  val = np.size(temps)\n",
        "  # Initializing our solution array\n",
        "  n = int(np.ceil(sim_time/timestep)) \n",
        "  temp = np.zeros([n,val+1]) # I am initializing my array to hold {val} dependent variables\n",
        "  temp[0,0] = 0 #initial time column\n",
        "  for i in range(val):\n",
        "    temp[0,i+1] = temps[i]\n",
        "  \n",
        "  for i, j in itertools.product(range(n-1), range(val)):\n",
        "    k1 = my_func(param, temp[i,0], temp[i,j+1])*timestep #temp[i,0] is the time, pop[i,1] is x. def verhulst_rate(param, t, x)\n",
        "    k2 = my_func(param, temp[i,0] + timestep/2, temp[i,j+1] + k1/2)*timestep\n",
        "    k3 = my_func(param, temp[i,0] + timestep/2, temp[i,j+1] + k2/2)*timestep\n",
        "    k4 = my_func(param, temp[i,0] + timestep, temp[i,j+1] + k3)*timestep\n",
        "    temp[i+1,0] = temp[i,0] + timestep\n",
        "    temp[i+1,j+1] = temp[i,j+1] + k1/6 + k2/3 + k3/3 + k4/6 #this is fourth order illusion, RK4, less error\n",
        "    temp_rk4 = temp\n",
        "\n",
        "  return temp_rk4 #this is just a more accurate/less error way to find the temp of the model, with [val] VARIABLES BEING PRODUCED\n",
        "\n",
        "rk4_geeb(verhulst_rate, temps, 100, 10)"
      ],
      "execution_count": 0,
      "outputs": [
        {
          "output_type": "execute_result",
          "data": {
            "text/plain": [
              "array([[0.00000000e+00, 8.00000000e+00, 1.00000000e+01],\n",
              "       [1.00000000e+01, 5.57534455e+01, 6.96151136e+01],\n",
              "       [2.00000000e+01, 3.78558286e+02, 4.69154798e+02],\n",
              "       [3.00000000e+01, 2.18073989e+03, 2.58991064e+03],\n",
              "       [4.00000000e+01, 6.66709156e+03, 7.15649755e+03],\n",
              "       [5.00000000e+01, 9.17482871e+03, 9.27058217e+03],\n",
              "       [6.00000000e+01, 9.73630444e+03, 9.76497130e+03],\n",
              "       [7.00000000e+01, 9.91254989e+03, 9.92197762e+03],\n",
              "       [8.00000000e+01, 9.97086730e+03, 9.97400489e+03],\n",
              "       [9.00000000e+01, 9.99028975e+03, 9.99133543e+03]])"
            ]
          },
          "metadata": {
            "tags": []
          },
          "execution_count": 54
        }
      ]
    },
    {
      "cell_type": "code",
      "metadata": {
        "id": "zgSQZrXOUdgx",
        "colab_type": "code",
        "colab": {}
      },
      "source": [
        "OLD MODELING CODE, PREVIOUS ITERATION #GEBM Model Here\n",
        "def geb_model(param,t,x0) #x0 is the intial condition temps of the atmosphere, surface\n",
        "  #first have the function for the atmosphere, with four inputs (solar, three surface outputs) and four outputs (two surface inputs, longwave to space, shortwave reflection), and parameters\n",
        "  #second, have the function for the surface, with two inputs (shortwave from sun and longwave atmosphere emission), three outputs(latent, sensible, longwave), and parameters affecting them\n",
        "  #Produce an array that keeps track of energy present in each box (atmosphere, surface) in relation to time, in w/m2\n",
        "  #using the boltzmann equation, convert energy (w/m2) to temperature and store in another array, in degree C (or f, or K).  Return this temperature array.\n",
        "\n",
        "#Runge Kutta Model: NEED TO EDIT TO HANDLE TWO VARIABLES\n",
        "def rk4_geb(my_func, param, x0, sim_time, timestep): #my_func will be the GEB_model. x0 should be a list, [ta0, ts0], but could be any number of boxes\n",
        "  g = param[0]\n",
        "  g = param[1]\n",
        "  #x0 is the intial conditions; for a two box model, you need both intial temp of atmosphere and surface\n",
        "  # need to define the params from the geb model param list.  Should the temps be params?\n",
        "\n",
        "  val = np.size(x0)\n",
        "  # Initializing our solution array\n",
        "  n = int(np.ceil(sim_time/timestep)) \n",
        "  temp = np.zeros([n,val]) # I am initializing my array to hold {val} dependent variables\n",
        "  temp[0,0] = 0 #initial time column\n",
        "  for i in range(val):\n",
        "    temp[0,i] = x0[i]\n",
        "  \n",
        "  for i in range(n-1) and j in range(val): #NEED TO ADD a second set of k1, k2, k3, and k4 for the second dependent variable, Ts.\n",
        "    k1 = my_func(param, temp[i,0], temp[i,j+1:j+j])*timestep #temp[i,0] is the time, pop[i,1] is x. f(param,t,x0) #time isn't  necessarily a factor in constant rate, but more generally it is useful to include when time matters in rate\n",
        "    k2 = my_func(param, temp[i,0] + timestep/2, temp[i,j+1:j+j] + k1/2)*timestep\n",
        "    k3 = my_func(param, temp[i,0] + timestep/2, temp[i,j+1:j+j] + k2/2)*timestep\n",
        "    k4 = my_func(param, temp[i,0] + timestep, temp[i,j+1:j+j] + k3)*timestep\n",
        "    temp[i+1,0] = temp[i,0] + timestep\n",
        "    temp[i+1,j+1] = temp[i,j+1] + k1a/6 + k2a/3 + k3a/3 + k4a/6 #this is fourth order illusion, RK4, less error\n",
        "    temp_rk4 = temp\n",
        "\n",
        "  return temp_rk4 #this is just a more accurate/less error way to find the temp of the model, with TWO VARIABLES BEING PRODUCED"
      ],
      "execution_count": 0,
      "outputs": []
    },
    {
      "cell_type": "code",
      "metadata": {
        "id": "oxPCeza6UfKx",
        "colab_type": "code",
        "outputId": "46dbd955-a66b-4e9b-f055-52b7679e17f2",
        "colab": {
          "base_uri": "https://localhost:8080/",
          "height": 34
        }
      },
      "source": [
        "def e_to_temp(e, albedo):\n",
        "  t = ((e*(1-albedo)/5.67e-8)**.25)\n",
        "  temp = t-273.15\n",
        "  return temp\n",
        "\n",
        "print(e_to_temp(340, .3))"
      ],
      "execution_count": 0,
      "outputs": [
        {
          "output_type": "stream",
          "text": [
            "-18.614433944546732\n"
          ],
          "name": "stdout"
        }
      ]
    },
    {
      "cell_type": "code",
      "metadata": {
        "id": "aprrEBUUhRHB",
        "colab_type": "code",
        "colab": {}
      },
      "source": [
        ""
      ],
      "execution_count": 0,
      "outputs": []
    }
  ]
}